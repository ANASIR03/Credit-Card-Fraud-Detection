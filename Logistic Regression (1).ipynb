{
 "cells":[
  {
   "cell_type":"code",
   "source":[
    "import pandas as pd\n",
    "\n",
    "training_data_34_66_path = '\/data\/notebook_files\/training_data_34_66.csv'\n",
    "training_data_10_90_path = '\/data\/notebook_files\/training_data_10_90.csv'\n",
    "X_test_path = '\/data\/notebook_files\/X_test.csv'\n",
    "y_test_path = '\/data\/notebook_files\/y_test.csv'\n",
    "\n",
    "training_data_34_66 = pd.read_csv(training_data_34_66_path)\n",
    "training_data_10_90 = pd.read_csv(training_data_10_90_path)\n",
    "X_test = pd.read_csv(X_test_path)\n",
    "y_test = pd.read_csv(y_test_path)"
   ],
   "execution_count":1,
   "outputs":[
    
   ],
   "metadata":{
    "datalore":{
     "node_id":"ARfXfIflDl0k8rBXbahkpt",
     "type":"CODE",
     "hide_input_from_viewers":true,
     "hide_output_from_viewers":true
    }
   }
  },
  {
   "cell_type":"markdown",
   "source":[
    "# Logistic Regression of the 34:66 Class Distribution "
   ],
   "attachments":{
    
   },
   "metadata":{
    "datalore":{
     "node_id":"MPRmjuX3BkupfoEhYTZRwP",
     "type":"MD",
     "hide_input_from_viewers":true,
     "hide_output_from_viewers":true
    }
   }
  },
  {
   "cell_type":"code",
   "source":[
    "X_train_34_66 = training_data_34_66.drop('Class', axis=1)\n",
    "y_train_34_66 = training_data_34_66['Class']\n",
    "\n",
    "y_test = y_test.squeeze()  # This will convert y_test to a Series if it's a single-column DataFrame"
   ],
   "execution_count":3,
   "outputs":[
    
   ],
   "metadata":{
    "datalore":{
     "node_id":"siX0z9qRRujD9Us5RhwA1h",
     "type":"CODE",
     "hide_input_from_viewers":true,
     "hide_output_from_viewers":true
    }
   }
  },
  {
   "cell_type":"code",
   "source":[
    "from sklearn.linear_model import LogisticRegression\n",
    "from sklearn.metrics import (accuracy_score, recall_score, precision_score, fbeta_score,\n",
    "                             roc_curve, roc_auc_score, confusion_matrix, matthews_corrcoef)\n",
    "import matplotlib.pyplot as plt\n",
    "\n",
    "X_train_34_66 = training_data_34_66.drop('Class', axis=1)\n",
    "y_train_34_66 = training_data_34_66['Class']\n",
    "\n",
    "# Initialize the Logistic Regression classifier\n",
    "lr_model_34_66 = LogisticRegression(max_iter=1000)  # Increase max_iter if the model doesn't converge\n",
    "\n",
    "# Train the model on the 34:66 resampled training data\n",
    "lr_model_34_66.fit(X_train_34_66, y_train_34_66)\n",
    "\n",
    "# Predict on the test set\n",
    "y_pred_34_66 = lr_model_34_66.predict(X_test)\n",
    "y_pred_proba_34_66 = lr_model_34_66.predict_proba(X_test)[:, 1]  \n",
    "\n",
    "# Calculate evaluation metrics\n",
    "accuracy_34_66 = accuracy_score(y_test, y_pred_34_66)\n",
    "recall_34_66 = recall_score(y_test, y_pred_34_66)\n",
    "precision_34_66 = precision_score(y_test, y_pred_34_66)\n",
    "f2_score_34_66 = fbeta_score(y_test, y_pred_34_66, beta=2)  \n",
    "roc_auc_34_66 = roc_auc_score(y_test, y_pred_proba_34_66)\n",
    "conf_matrix_34_66 = confusion_matrix(y_test, y_pred_34_66)\n",
    "mcc_34_66 = matthews_corrcoef(y_test, y_pred_34_66)\n",
    "\n",
    "# Extracting TN, FP, FN, TP from confusion matrix\n",
    "tn_34_66, fp_34_66, fn_34_66, tp_34_66 = conf_matrix_34_66.ravel()\n",
    "\n",
    "# Specificity or True Negative Rate\n",
    "specificity_34_66 = tn_34_66 \/ (tn_34_66 + fp_34_66)\n",
    "\n",
    "# Balanced Classification Rate (BCR)\n",
    "bcr_34_66 = (recall_34_66 + specificity_34_66) \/ 2\n",
    "\n",
    "# Print the metrics\n",
    "print(f'Accuracy (34:66): {accuracy_34_66}')\n",
    "print(f'Recall\/Sensitivity (34:66): {recall_34_66}')\n",
    "print(f'Specificity (34:66): {specificity_34_66}')\n",
    "print(f'Precision (34:66): {precision_34_66}')\n",
    "print(f'F2 Score (34:66): {f2_score_34_66}')\n",
    "print(f'Matthews Correlation Coefficient (MCC) (34:66): {mcc_34_66}')\n",
    "print(f'Balanced Classification Rate (BCR) (34:66): {bcr_34_66}')\n",
    "print(f'ROC AUC (34:66): {roc_auc_34_66}')\n",
    "print(f'Confusion Matrix (34:66):\\n{conf_matrix_34_66}')\n",
    "print(f'TN (34:66): {tn_34_66}, FP (34:66): {fp_34_66}, FN (34:66): {fn_34_66}, TP (34:66): {tp_34_66}')\n",
    "\n",
    "# ROC Curve\n",
    "fpr_34_66, tpr_34_66, _ = roc_curve(y_test, y_pred_proba_34_66)\n",
    "plt.plot(fpr_34_66, tpr_34_66, label=f'AUC (34:66) = {roc_auc_34_66:.2f}')\n",
    "plt.plot([0, 1], [0, 1], 'k--')\n",
    "plt.xlabel('False Positive Rate')\n",
    "plt.ylabel('True Positive Rate')\n",
    "plt.title('ROC Curve (34:66 Dataset)')\n",
    "plt.legend(loc='lower right')\n",
    "plt.show()"
   ],
   "execution_count":4,
   "outputs":[
    {
     "name":"stdout",
     "text":[
      "Accuracy (34:66): 0.9918191074751589\n",
      "Recall\/Sensitivity (34:66): 0.8979591836734694\n",
      "Specificity (34:66): 0.9919808666291503\n",
      "Precision (34:66): 0.16176470588235295\n",
      "F2 Score (34:66): 0.47008547008547\n",
      "Matthews Correlation Coefficient (MCC) (34:66): 0.3792138579268492\n",
      "Balanced Classification Rate (BCR) (34:66): 0.9449700251513098\n",
      "ROC AUC (34:66): 0.9789443914876024\n",
      "Confusion Matrix (34:66):\n",
      "[[56408   456]\n",
      " [   10    88]]\n",
      "TN (34:66): 56408, FP (34:66): 456, FN (34:66): 10, TP (34:66): 88\n"
     ],
     "output_type":"stream"
    },
    {
     "data":{
      "image\/png":"[encoded data removed]"
     },
     "metadata":{
      "image\/png":{
       
      }
     },
     "output_type":"display_data"
    }
   ],
   "metadata":{
    "datalore":{
     "node_id":"VXZ3DDFrs1GtLYjNn5rGAF",
     "type":"CODE",
     "hide_input_from_viewers":true,
     "hide_output_from_viewers":true
    }
   }
  },
  {
   "cell_type":"markdown",
   "source":[
    "# Cross-Validating Logistic Regression for the 34:66 Class Distribution"
   ],
   "attachments":{
    
   },
   "metadata":{
    "datalore":{
     "node_id":"A5UtjknAFOxKBRMZrbcZeI",
     "type":"MD",
     "hide_input_from_viewers":true,
     "hide_output_from_viewers":true
    }
   }
  },
  {
   "cell_type":"code",
   "source":[
    "import numpy as np\n",
    "from sklearn.model_selection import cross_validate, StratifiedKFold\n",
    "from sklearn.linear_model import LogisticRegression\n",
    "from sklearn.metrics import make_scorer, accuracy_score, recall_score, precision_score, fbeta_score, matthews_corrcoef\n",
    "\n",
    "# Initialize the Logistic Regression classifier\n",
    "lr_model = LogisticRegression(max_iter=1000)\n",
    "\n",
    "# Define the cross-validation strategy\n",
    "cv_strategy = StratifiedKFold(n_splits=5)\n",
    "\n",
    "# Define scoring functions for cross-validation\n",
    "scoring = {\n",
    "    'accuracy': make_scorer(accuracy_score),\n",
    "    'recall': make_scorer(recall_score),\n",
    "    'precision': make_scorer(precision_score),\n",
    "    'f2_score': make_scorer(fbeta_score, beta=2),\n",
    "    'mcc': make_scorer(matthews_corrcoef)\n",
    "}\n",
    "\n",
    "# Perform cross-validation\n",
    "cv_results = cross_validate(lr_model, X_train_34_66, y_train_34_66, cv=cv_strategy, scoring=scoring)\n",
    "\n",
    "accuracy_scores = cv_results['test_accuracy']\n",
    "recall_scores = cv_results['test_recall']\n",
    "precision_scores = cv_results['test_precision']\n",
    "f2_scores = cv_results['test_f2_score']\n",
    "mcc_scores = cv_results['test_mcc']\n",
    "\n",
    "# Print the mean and standard deviation of the scores for each metric\n",
    "print(f'Cross-validated accuracy: {np.mean(accuracy_scores)} (+\/- {np.std(accuracy_scores)})')\n",
    "print(f'Cross-validated recall: {np.mean(recall_scores)} (+\/- {np.std(recall_scores)})')\n",
    "print(f'Cross-validated precision: {np.mean(precision_scores)} (+\/- {np.std(precision_scores)})')\n",
    "print(f'Cross-validated F2 score: {np.mean(f2_scores)} (+\/- {np.std(f2_scores)})')\n",
    "print(f'Cross-validated MCC: {np.mean(mcc_scores)} (+\/- {np.std(mcc_scores)})')"
   ],
   "execution_count":6,
   "outputs":[
    {
     "name":"stdout",
     "text":[
      "Cross-validated accuracy: 0.9646632694512421 (+\/- 0.00037477596348699677)\n",
      "Cross-validated recall: 0.883917626219573 (+\/- 0.0010275029392828772)\n",
      "Cross-validated precision: 0.9744403186686881 (+\/- 0.0007676127672420217)\n",
      "Cross-validated F2 score: 0.9006510532003231 (+\/- 0.0009217433488525385)\n",
      "Cross-validated MCC: 0.9056083416937042 (+\/- 0.0010185997245098501)\n"
     ],
     "output_type":"stream"
    }
   ],
   "metadata":{
    "datalore":{
     "node_id":"VQYk4Fo3LxSWNG9dQwxj9Y",
     "type":"CODE",
     "hide_input_from_viewers":true,
     "hide_output_from_viewers":true
    }
   }
  },
  {
   "cell_type":"markdown",
   "source":[
    "# Logistic Regression of the 10:90 Class Distribution "
   ],
   "attachments":{
    
   },
   "metadata":{
    "datalore":{
     "node_id":"To2w8R3QY7FXzfXnk4CMi6",
     "type":"MD",
     "hide_input_from_viewers":true,
     "hide_output_from_viewers":true
    }
   }
  },
  {
   "cell_type":"code",
   "source":[
    "X_train_10_90 = training_data_10_90.drop('Class', axis=1)\n",
    "y_train_10_90 = training_data_10_90['Class']\n",
    "\n",
    "y_test = y_test.squeeze()  "
   ],
   "execution_count":8,
   "outputs":[
    
   ],
   "metadata":{
    "datalore":{
     "node_id":"21Kufkbc3dZjgYO455E2X4",
     "type":"CODE",
     "hide_input_from_viewers":true,
     "hide_output_from_viewers":true
    }
   }
  },
  {
   "cell_type":"code",
   "source":[
    "from sklearn.linear_model import LogisticRegression\n",
    "from sklearn.metrics import (accuracy_score, recall_score, precision_score, fbeta_score, \n",
    "                             roc_curve, roc_auc_score, confusion_matrix, matthews_corrcoef)\n",
    "import matplotlib.pyplot as plt\n",
    "\n",
    "# Initialize the Logistic Regression classifier\n",
    "lr_model_10_90 = LogisticRegression()\n",
    "\n",
    "# Train the model on the 10:90 resampled training data\n",
    "lr_model_10_90.fit(X_train_10_90, y_train_10_90)\n",
    "\n",
    "# Predict on the test set\n",
    "y_pred_10_90_lr = lr_model_10_90.predict(X_test)\n",
    "y_pred_proba_10_90_lr = lr_model_10_90.predict_proba(X_test)[:, 1]  \n",
    "\n",
    "# Calculate evaluation metrics\n",
    "accuracy_10_90_lr = accuracy_score(y_test, y_pred_10_90_lr)\n",
    "recall_10_90_lr = recall_score(y_test, y_pred_10_90_lr)\n",
    "precision_10_90_lr = precision_score(y_test, y_pred_10_90_lr)\n",
    "f2_score_10_90_lr = fbeta_score(y_test, y_pred_10_90_lr, beta=2)\n",
    "roc_auc_10_90_lr = roc_auc_score(y_test, y_pred_proba_10_90_lr)\n",
    "conf_matrix_10_90_lr = confusion_matrix(y_test, y_pred_10_90_lr)\n",
    "mcc_10_90_lr = matthews_corrcoef(y_test, y_pred_10_90_lr)\n",
    "\n",
    "# Extracting TN, FP, FN, TP from confusion matrix\n",
    "tn_10_90_lr, fp_10_90_lr, fn_10_90_lr, tp_10_90_lr = conf_matrix_10_90_lr.ravel()\n",
    "\n",
    "# Specificity or True Negative Rate\n",
    "specificity_10_90_lr = tn_10_90_lr \/ (tn_10_90_lr + fp_10_90_lr)\n",
    "\n",
    "# Balanced Classification Rate (BCR) \n",
    "bcr_10_90_lr = (recall_10_90_lr + specificity_10_90_lr) \/ 2\n",
    "\n",
    "# Print the metrics\n",
    "print(f'Accuracy (10:90) - Logistic Regression: {accuracy_10_90_lr}')\n",
    "print(f'Recall\/Sensitivity (10:90) - Logistic Regression: {recall_10_90_lr}')\n",
    "print(f'Specificity (10:90) - Logistic Regression: {specificity_10_90_lr}')\n",
    "print(f'Precision (10:90) - Logistic Regression: {precision_10_90_lr}')\n",
    "print(f'F2 Score (10:90) - Logistic Regression: {f2_score_10_90_lr}')\n",
    "print(f'Matthews Correlation Coefficient (MCC) (10:90) - Logistic Regression: {mcc_10_90_lr}')\n",
    "print(f'Balanced Classification Rate (BCR) (10:90) - Logistic Regression: {bcr_10_90_lr}')\n",
    "print(f'ROC AUC (10:90) - Logistic Regression: {roc_auc_10_90_lr}')\n",
    "print(f'Confusion Matrix (10:90) - Logistic Regression:\\n{conf_matrix_10_90_lr}')\n",
    "print(f'TN (10:90): {tn_10_90_lr}, FP (10:90): {fp_10_90_lr}, FN (10:90): {fn_10_90_lr}, TP (10:90): {tp_10_90_lr}')\n",
    "\n",
    "# ROC Curve\n",
    "fpr_10_90_lr, tpr_10_90_lr, _ = roc_curve(y_test, y_pred_proba_10_90_lr)\n",
    "plt.plot(fpr_10_90_lr, tpr_10_90_lr, label=f'AUC (10:90) - Logistic Regression = {roc_auc_10_90_lr:.2f}')\n",
    "plt.plot([0, 1], [0, 1], 'k--')\n",
    "plt.xlabel('False Positive Rate')\n",
    "plt.ylabel('True Positive Rate')\n",
    "plt.title('ROC Curve (10:90 Dataset) - Logistic Regression')\n",
    "plt.legend(loc='lower right')\n",
    "plt.show()"
   ],
   "execution_count":9,
   "outputs":[
    {
     "name":"stdout",
     "text":[
      "Accuracy (10:90) - Logistic Regression: 0.9978582212703205\n",
      "Recall\/Sensitivity (10:90) - Logistic Regression: 0.8673469387755102\n",
      "Specificity (10:90) - Logistic Regression: 0.9980831457512662\n",
      "Precision (10:90) - Logistic Regression: 0.4381443298969072\n",
      "F2 Score (10:90) - Logistic Regression: 0.7252559726962458\n",
      "Matthews Correlation Coefficient (MCC) (10:90) - Logistic Regression: 0.6156176565181405\n",
      "Balanced Classification Rate (BCR) (10:90) - Logistic Regression: 0.9327150422633882\n",
      "ROC AUC (10:90) - Logistic Regression: 0.9792623718029699\n",
      "Confusion Matrix (10:90) - Logistic Regression:\n",
      "[[56755   109]\n",
      " [   13    85]]\n",
      "TN (10:90): 56755, FP (10:90): 109, FN (10:90): 13, TP (10:90): 85\n"
     ],
     "output_type":"stream"
    },
    {
     "data":{
      "image\/png":"[encoded data removed]"
     },
     "metadata":{
      "image\/png":{
       
      }
     },
     "output_type":"display_data"
    }
   ],
   "metadata":{
    "datalore":{
     "node_id":"9ly4myuQLyPaA2Jkc0T5xk",
     "type":"CODE",
     "hide_input_from_viewers":true,
     "hide_output_from_viewers":true
    }
   }
  },
  {
   "cell_type":"markdown",
   "source":[
    "# Cross-Validation of Logistic Regression Models in 10:90 Class Distribution"
   ],
   "attachments":{
    
   },
   "metadata":{
    "datalore":{
     "node_id":"YapLYbMCxo9vk6GPC0YRxM",
     "type":"MD",
     "hide_input_from_viewers":true,
     "hide_output_from_viewers":true
    }
   }
  },
  {
   "cell_type":"code",
   "source":[
    "from sklearn.model_selection import cross_validate, StratifiedKFold\n",
    "from sklearn.linear_model import LogisticRegression\n",
    "from sklearn.metrics import make_scorer, accuracy_score, recall_score, precision_score, fbeta_score, matthews_corrcoef\n",
    "import numpy as np\n",
    "\n",
    "# Initialize the Logistic Regression classifier\n",
    "lr_model_10_90 = LogisticRegression(max_iter=1000)\n",
    "\n",
    "# Define the cross-validation strategy\n",
    "cv_strategy = StratifiedKFold(n_splits=5)\n",
    "\n",
    "# Define scoring functions for cross-validation\n",
    "scoring = {\n",
    "    'accuracy': make_scorer(accuracy_score),\n",
    "    'recall': make_scorer(recall_score),\n",
    "    'precision': make_scorer(precision_score),\n",
    "    'f2_score': make_scorer(fbeta_score, beta=2),\n",
    "    'mcc': make_scorer(matthews_corrcoef)\n",
    "}\n",
    "\n",
    "# Perform cross-validation\n",
    "cv_results_10_90 = cross_validate(lr_model_10_90, X_train_10_90, y_train_10_90, cv=cv_strategy, scoring=scoring)\n",
    "\n",
    "accuracy_scores_10_90 = cv_results_10_90['test_accuracy']\n",
    "recall_scores_10_90 = cv_results_10_90['test_recall']\n",
    "precision_scores_10_90 = cv_results_10_90['test_precision']\n",
    "f2_scores_10_90 = cv_results_10_90['test_f2_score']\n",
    "mcc_scores_10_90 = cv_results_10_90['test_mcc']\n",
    "\n",
    "# Print the mean and standard deviation of the scores for each metric\n",
    "print(f'Cross-validated accuracy (10:90): {np.mean(accuracy_scores_10_90)} (+\/- {np.std(accuracy_scores_10_90)})')\n",
    "print(f'Cross-validated recall (10:90): {np.mean(recall_scores_10_90)} (+\/- {np.std(recall_scores_10_90)})')\n",
    "print(f'Cross-validated precision (10:90): {np.mean(precision_scores_10_90)} (+\/- {np.std(precision_scores_10_90)})')\n",
    "print(f'Cross-validated F2 score (10:90): {np.mean(f2_scores_10_90)} (+\/- {np.std(f2_scores_10_90)})')\n",
    "print(f'Cross-validated MCC (10:90): {np.mean(mcc_scores_10_90)} (+\/- {np.std(mcc_scores_10_90)})')"
   ],
   "execution_count":10,
   "outputs":[
    {
     "name":"stdout",
     "text":[
      "Cross-validated accuracy (10:90): 0.9853034632986271 (+\/- 0.0004215905829323421)\n",
      "Cross-validated recall (10:90): 0.8594856012310398 (+\/- 0.00306942355255346)\n",
      "Cross-validated precision (10:90): 0.9759893646091594 (+\/- 0.0027298232938044687)\n",
      "Cross-validated F2 score (10:90): 0.8805052695359015 (+\/- 0.0028016201877814895)\n",
      "Cross-validated MCC (10:90): 0.9082277629597278 (+\/- 0.002707307407816995)\n"
     ],
     "output_type":"stream"
    }
   ],
   "metadata":{
    "datalore":{
     "node_id":"bfO2wDFr1qcN4IHDgirBcz",
     "type":"CODE",
     "hide_input_from_viewers":true,
     "hide_output_from_viewers":true
    }
   }
  }
 ],
 "metadata":{
  "kernelspec":{
   "display_name":"Python",
   "language":"python",
   "name":"python"
  },
  "datalore":{
   "computation_mode":"JUPYTER",
   "package_manager":"pip",
   "base_environment":"default",
   "packages":[
    
   ],
   "report_row_ids":[
    
   ],
   "version":3
  }
 },
 "nbformat":4,
 "nbformat_minor":4
}
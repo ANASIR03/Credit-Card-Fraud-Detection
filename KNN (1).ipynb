{
 "cells":[
  {
   "cell_type":"code",
   "source":[
    "import pandas as pd\n",
    "\n",
    "# Paths to the datasets\n",
    "training_data_34_66_path = '\/data\/notebook_files\/training_data_34_66.csv'\n",
    "training_data_10_90_path = '\/data\/notebook_files\/training_data_10_90.csv'\n",
    "X_test_path = '\/data\/notebook_files\/X_test.csv'\n",
    "y_test_path = '\/data\/notebook_files\/y_test.csv'\n",
    "\n",
    "# Loading the datasets\n",
    "training_data_34_66 = pd.read_csv(training_data_34_66_path)\n",
    "training_data_10_90 = pd.read_csv(training_data_10_90_path)\n",
    "X_test = pd.read_csv(X_test_path)\n",
    "y_test = pd.read_csv(y_test_path)"
   ],
   "execution_count":3,
   "outputs":[
    
   ],
   "metadata":{
    "datalore":{
     "node_id":"2JAGQUcCFUlLFa6gWejGsB",
     "type":"CODE",
     "hide_input_from_viewers":true,
     "hide_output_from_viewers":true
    }
   }
  },
  {
   "cell_type":"markdown",
   "source":[
    "# KNN Computation on the 34:66 Class Distribution"
   ],
   "attachments":{
    
   },
   "metadata":{
    "datalore":{
     "node_id":"eRd1DMaS6brO04Udv7V0me",
     "type":"MD",
     "hide_input_from_viewers":true,
     "hide_output_from_viewers":true
    }
   }
  },
  {
   "cell_type":"code",
   "source":[
    "X_train_34_66 = training_data_34_66.drop('Class', axis=1)\n",
    "y_train_34_66 = training_data_34_66['Class']\n",
    "\n",
    "y_test = y_test.squeeze()  "
   ],
   "execution_count":4,
   "outputs":[
    
   ],
   "metadata":{
    "datalore":{
     "node_id":"FELRtDFTTTpb4e6Ha9QABn",
     "type":"CODE",
     "hide_input_from_viewers":true,
     "hide_output_from_viewers":true
    }
   }
  },
  {
   "cell_type":"code",
   "source":[
    "from sklearn.neighbors import KNeighborsClassifier\n",
    "from sklearn.metrics import (accuracy_score, recall_score, precision_score, fbeta_score, \n",
    "                             roc_curve, roc_auc_score, confusion_matrix, matthews_corrcoef)\n",
    "import matplotlib.pyplot as plt\n",
    "\n",
    "knn_model_34_66 = KNeighborsClassifier(n_neighbors=5)\n",
    "\n",
    "# Train the model on the 34:66 resampled training data\n",
    "knn_model_34_66.fit(X_train_34_66, y_train_34_66)\n",
    "\n",
    "# Predict on the test set\n",
    "y_pred_34_66_knn = knn_model_34_66.predict(X_test)\n",
    "y_pred_proba_34_66_knn = knn_model_34_66.predict_proba(X_test)[:, 1]\n",
    "\n",
    "# Calculate evaluation metrics\n",
    "accuracy_34_66_knn = accuracy_score(y_test, y_pred_34_66_knn)\n",
    "recall_34_66_knn = recall_score(y_test, y_pred_34_66_knn)\n",
    "precision_34_66_knn = precision_score(y_test, y_pred_34_66_knn)\n",
    "f2_score_34_66_knn = fbeta_score(y_test, y_pred_34_66_knn, beta=2)\n",
    "roc_auc_34_66_knn = roc_auc_score(y_test, y_pred_proba_34_66_knn)\n",
    "conf_matrix_34_66_knn = confusion_matrix(y_test, y_pred_34_66_knn)\n",
    "mcc_34_66_knn = matthews_corrcoef(y_test, y_pred_34_66_knn)\n",
    "\n",
    "# Extracting TN, FP, FN, TP from confusion matrix\n",
    "tn_34_66_knn, fp_34_66_knn, fn_34_66_knn, tp_34_66_knn = conf_matrix_34_66_knn.ravel()\n",
    "\n",
    "# Specificity or True Negative Rate\n",
    "specificity_34_66_knn = tn_34_66_knn \/ (tn_34_66_knn + fp_34_66_knn)\n",
    "\n",
    "# Balanced Classification Rate (BCR) \n",
    "bcr_34_66_knn = (recall_34_66_knn + specificity_34_66_knn) \/ 2\n",
    "\n",
    "# Print the metrics\n",
    "print(f'Accuracy (34:66): {accuracy_34_66_knn}')\n",
    "print(f'Recall\/Sensitivity (34:66): {recall_34_66_knn}')\n",
    "print(f'Specificity (34:66): {specificity_34_66_knn}')\n",
    "print(f'Precision (34:66): {precision_34_66_knn}')\n",
    "print(f'F2 Score (34:66): {f2_score_34_66_knn}')\n",
    "print(f'Matthews Correlation Coefficient (MCC) (34:66): {mcc_34_66_knn}')\n",
    "print(f'Balanced Classification Rate (BCR) (34:66): {bcr_34_66_knn}')\n",
    "print(f'ROC AUC (34:66): {roc_auc_34_66_knn}')\n",
    "print(f'Confusion Matrix (34:66):\\n{conf_matrix_34_66_knn}')\n",
    "print(f'TN (34:66): {tn_34_66_knn}, FP (34:66): {fp_34_66_knn}, FN (34:66): {fn_34_66_knn}, TP (34:66): {tp_34_66_knn}')\n",
    "\n",
    "# ROC Curve\n",
    "fpr_34_66_knn, tpr_34_66_knn, _ = roc_curve(y_test, y_pred_proba_34_66_knn)\n",
    "plt.plot(fpr_34_66_knn, tpr_34_66_knn, label=f'AUC (34:66) = {roc_auc_34_66_knn:.2f}')\n",
    "plt.plot([0, 1], [0, 1], 'k--')\n",
    "plt.xlabel('False Positive Rate')\n",
    "plt.ylabel('True Positive Rate')\n",
    "plt.title('ROC Curve (34:66 Dataset) - KNN')\n",
    "plt.legend(loc='lower right')\n",
    "plt.show()"
   ],
   "execution_count":5,
   "outputs":[
    {
     "name":"stdout",
     "text":[
      "Accuracy (34:66): 0.9981742214107651\n",
      "Recall\/Sensitivity (34:66): 0.8673469387755102\n",
      "Specificity (34:66): 0.9983996904895892\n",
      "Precision (34:66): 0.48295454545454547\n",
      "F2 Score (34:66): 0.7482394366197184\n",
      "Matthews Correlation Coefficient (MCC) (34:66): 0.6464658341544881\n",
      "Balanced Classification Rate (BCR) (34:66): 0.9328733146325496\n",
      "ROC AUC (34:66): 0.9383645762750795\n",
      "Confusion Matrix (34:66):\n",
      "[[56773    91]\n",
      " [   13    85]]\n",
      "TN (34:66): 56773, FP (34:66): 91, FN (34:66): 13, TP (34:66): 85\n"
     ],
     "output_type":"stream"
    },
    {
     "data":{
      "image\/png":"[encoded data removed]"
     },
     "metadata":{
      "image\/png":{
       
      }
     },
     "output_type":"display_data"
    }
   ],
   "metadata":{
    "datalore":{
     "node_id":"in5ZDP6vqK9nGNJDCn6Acl",
     "type":"CODE",
     "hide_input_from_viewers":true,
     "hide_output_from_viewers":true
    }
   }
  },
  {
   "cell_type":"markdown",
   "source":[
    "# Cross-Validation of KNN 34:66 Class Distribution"
   ],
   "attachments":{
    
   },
   "metadata":{
    "datalore":{
     "node_id":"0rrIsgjOY0F8xF8PlS1NpJ",
     "type":"MD",
     "hide_input_from_viewers":true,
     "hide_output_from_viewers":true
    }
   }
  },
  {
   "cell_type":"code",
   "source":[
    "import numpy as np\n",
    "from sklearn.model_selection import cross_validate, StratifiedKFold\n",
    "from sklearn.neighbors import KNeighborsClassifier\n",
    "from sklearn.metrics import make_scorer, accuracy_score, recall_score, precision_score, fbeta_score, matthews_corrcoef\n",
    "\n",
    "# Initialize the KNN Classifier\n",
    "knn_model_34_66 = KNeighborsClassifier(n_neighbors=5, algorithm='auto', leaf_size=30)\n",
    "\n",
    "# Define the cross-validation strategy\n",
    "cv_strategy = StratifiedKFold(n_splits=3)  # Reduced number of splits\n",
    "\n",
    "# Define scoring functions for cross-validation\n",
    "scoring = {\n",
    "    'accuracy': make_scorer(accuracy_score),\n",
    "    'recall': make_scorer(recall_score),\n",
    "    'precision': make_scorer(precision_score),\n",
    "    'f2_score': make_scorer(fbeta_score, beta=2),\n",
    "    'mcc': make_scorer(matthews_corrcoef)\n",
    "}\n",
    "\n",
    "# Perform cross-validation\n",
    "cv_results_34_66_knn = cross_validate(knn_model_34_66, X_train_34_66, y_train_34_66, cv=cv_strategy, scoring=scoring, n_jobs=-1)  # Parallel processing\n",
    "\n",
    "# Extracting scores\n",
    "accuracy_scores_34_66_knn = cv_results_34_66_knn['test_accuracy']\n",
    "recall_scores_34_66_knn = cv_results_34_66_knn['test_recall']\n",
    "precision_scores_34_66_knn = cv_results_34_66_knn['test_precision']\n",
    "f2_scores_34_66_knn = cv_results_34_66_knn['test_f2_score']\n",
    "mcc_scores_34_66_knn = cv_results_34_66_knn['test_mcc']\n",
    "\n",
    "# Print the mean and standard deviation of the scores for each metric\n",
    "print(f'Cross-validated accuracy (34:66 - KNN): {np.mean(accuracy_scores_34_66_knn)} (+\/- {np.std(accuracy_scores_34_66_knn)})')\n",
    "print(f'Cross-validated recall (34:66 - KNN): {np.mean(recall_scores_34_66_knn)} (+\/- {np.std(recall_scores_34_66_knn)})')\n",
    "print(f'Cross-validated precision (34:66 - KNN): {np.mean(precision_scores_34_66_knn)} (+\/- {np.std(precision_scores_34_66_knn)})')\n",
    "print(f'Cross-validated F2 score (34:66 - KNN): {np.mean(f2_scores_34_66_knn)} (+\/- {np.std(f2_scores_34_66_knn)})')\n",
    "print(f'Cross-validated MCC (34:66 - KNN): {np.mean(mcc_scores_34_66_knn)} (+\/- {np.std(mcc_scores_34_66_knn)})')"
   ],
   "execution_count":7,
   "outputs":[
    {
     "name":"stdout",
     "text":[
      "Cross-validated accuracy (34:66 - KNN): 0.9983627642052353 (+\/- 0.00011544390473035616)\n",
      "Cross-validated recall (34:66 - KNN): 1.0 (+\/- 0.0)\n",
      "Cross-validated precision (34:66 - KNN): 0.9935889663655821 (+\/- 0.00044918307137435486)\n",
      "Cross-validated F2 score (34:66 - KNN): 0.9987111503775208 (+\/- 9.074521744007636e-05)\n",
      "Cross-validated MCC (34:66 - KNN): 0.9956952898878564 (+\/- 0.0003022511979058571)\n"
     ],
     "output_type":"stream"
    }
   ],
   "metadata":{
    "datalore":{
     "node_id":"Q9AKEwJZlv24gbTuXlQ6gd",
     "type":"CODE",
     "hide_input_from_viewers":true,
     "hide_output_from_viewers":true
    }
   }
  },
  {
   "cell_type":"markdown",
   "source":[
    "# KNN Computation on the 10:90 Class Distribution"
   ],
   "attachments":{
    
   },
   "metadata":{
    "datalore":{
     "node_id":"z0z5kvYvt05N4VSEOlFmnq",
     "type":"MD",
     "hide_input_from_viewers":true,
     "hide_output_from_viewers":true
    }
   }
  },
  {
   "cell_type":"code",
   "source":[
    "X_train_10_90 = training_data_10_90.drop('Class', axis=1)\n",
    "y_train_10_90 = training_data_10_90['Class']\n",
    "\n",
    "y_test = y_test.squeeze() "
   ],
   "execution_count":8,
   "outputs":[
    
   ],
   "metadata":{
    "datalore":{
     "node_id":"wLgCNVZDHcXA4tz5nFRcaz",
     "type":"CODE",
     "hide_input_from_viewers":true,
     "hide_output_from_viewers":true
    }
   }
  },
  {
   "cell_type":"code",
   "source":[
    "from sklearn.neighbors import KNeighborsClassifier\n",
    "from sklearn.metrics import (accuracy_score, recall_score, precision_score, fbeta_score, \n",
    "                             roc_curve, roc_auc_score, confusion_matrix, matthews_corrcoef)\n",
    "import matplotlib.pyplot as plt\n",
    "\n",
    "knn_model_10_90 = KNeighborsClassifier(n_neighbors=5)\n",
    "\n",
    "# Train the model on the 10:90 resampled training data\n",
    "knn_model_10_90.fit(X_train_10_90, y_train_10_90)\n",
    "\n",
    "# Predict on the test set\n",
    "y_pred_10_90_knn = knn_model_10_90.predict(X_test)\n",
    "y_pred_proba_10_90_knn = knn_model_10_90.predict_proba(X_test)[:, 1]\n",
    "\n",
    "# Calculate evaluation metrics\n",
    "accuracy_10_90_knn = accuracy_score(y_test, y_pred_10_90_knn)\n",
    "recall_10_90_knn = recall_score(y_test, y_pred_10_90_knn)\n",
    "precision_10_90_knn = precision_score(y_test, y_pred_10_90_knn)\n",
    "f2_score_10_90_knn = fbeta_score(y_test, y_pred_10_90_knn, beta=2)\n",
    "roc_auc_10_90_knn = roc_auc_score(y_test, y_pred_proba_10_90_knn)\n",
    "conf_matrix_10_90_knn = confusion_matrix(y_test, y_pred_10_90_knn)\n",
    "mcc_10_90_knn = matthews_corrcoef(y_test, y_pred_10_90_knn)\n",
    "\n",
    "# Extracting TN, FP, FN, TP from confusion matrix\n",
    "tn_10_90_knn, fp_10_90_knn, fn_10_90_knn, tp_10_90_knn = conf_matrix_10_90_knn.ravel()\n",
    "\n",
    "# Specificity or True Negative Rate\n",
    "specificity_10_90_knn = tn_10_90_knn \/ (tn_10_90_knn + fp_10_90_knn)\n",
    "\n",
    "# Balanced Classification Rate (BCR)\n",
    "bcr_10_90_knn = (recall_10_90_knn + specificity_10_90_knn) \/ 2\n",
    "\n",
    "# Print the metrics\n",
    "print(f'Accuracy (10:90): {accuracy_10_90_knn}')\n",
    "print(f'Recall\/Sensitivity (10:90): {recall_10_90_knn}')\n",
    "print(f'Specificity (10:90): {specificity_10_90_knn}')\n",
    "print(f'Precision (10:90): {precision_10_90_knn}')\n",
    "print(f'F2 Score (10:90): {f2_score_10_90_knn}')\n",
    "print(f'Matthews Correlation Coefficient (MCC) (10:90): {mcc_10_90_knn}')\n",
    "print(f'Balanced Classification Rate (BCR) (10:90): {bcr_10_90_knn}')\n",
    "print(f'ROC AUC (10:90): {roc_auc_10_90_knn}')\n",
    "print(f'Confusion Matrix (10:90):\\n{conf_matrix_10_90_knn}')\n",
    "print(f'TN (10:90): {tn_10_90_knn}, FP (10:90): {fp_10_90_knn}, FN (10:90): {fn_10_90_knn}, TP (10:90): {tp_10_90_knn}')\n",
    "\n",
    "# ROC Curve\n",
    "fpr_10_90_knn, tpr_10_90_knn, _ = roc_curve(y_test, y_pred_proba_10_90_knn)\n",
    "plt.plot(fpr_10_90_knn, tpr_10_90_knn, label=f'AUC (10:90) = {roc_auc_10_90_knn:.2f}')\n",
    "plt.plot([0, 1], [0, 1], 'k--')\n",
    "plt.xlabel('False Positive Rate')\n",
    "plt.ylabel('True Positive Rate')\n",
    "plt.title('ROC Curve (10:90 Dataset) - KNN')\n",
    "plt.legend(loc='lower right')\n",
    "plt.show()"
   ],
   "execution_count":9,
   "outputs":[
    {
     "name":"stdout",
     "text":[
      "Accuracy (10:90): 0.9985253326779256\n",
      "Recall\/Sensitivity (10:90): 0.8673469387755102\n",
      "Specificity (10:90): 0.9987514068655037\n",
      "Precision (10:90): 0.5448717948717948\n",
      "F2 Score (10:90): 0.7755474452554744\n",
      "Matthews Correlation Coefficient (MCC) (10:90): 0.6868146433559101\n",
      "Balanced Classification Rate (BCR) (10:90): 0.9330491728205069\n",
      "ROC AUC (10:90): 0.9384682069929828\n",
      "Confusion Matrix (10:90):\n",
      "[[56793    71]\n",
      " [   13    85]]\n",
      "TN (10:90): 56793, FP (10:90): 71, FN (10:90): 13, TP (10:90): 85\n"
     ],
     "output_type":"stream"
    },
    {
     "data":{
      "image\/png":"[encoded data removed]"
     },
     "metadata":{
      "image\/png":{
       
      }
     },
     "output_type":"display_data"
    }
   ],
   "metadata":{
    "datalore":{
     "node_id":"PsADtzhrrsOv8OArArCmUp",
     "type":"CODE",
     "hide_input_from_viewers":true,
     "hide_output_from_viewers":true
    }
   }
  },
  {
   "cell_type":"code",
   "source":[
    "from sklearn.model_selection import cross_validate, StratifiedKFold\n",
    "from sklearn.neighbors import KNeighborsClassifier\n",
    "from sklearn.metrics import make_scorer, accuracy_score, recall_score, precision_score, fbeta_score, matthews_corrcoef\n",
    "import numpy as np\n",
    "\n",
    "# Initialize the KNN Classifier\n",
    "knn_model_10_90 = KNeighborsClassifier(n_neighbors=5)\n",
    "\n",
    "# Define the cross-validation strategy\n",
    "cv_strategy = StratifiedKFold(n_splits=3)  # Reduced number of splits for efficiency\n",
    "\n",
    "# Define scoring functions for cross-validation\n",
    "scoring = {\n",
    "    'accuracy': make_scorer(accuracy_score),\n",
    "    'recall': make_scorer(recall_score),\n",
    "    'precision': make_scorer(precision_score),\n",
    "    'f2_score': make_scorer(fbeta_score, beta=2),\n",
    "    'mcc': make_scorer(matthews_corrcoef)\n",
    "}\n",
    "\n",
    "# Perform cross-validation\n",
    "cv_results_10_90_knn = cross_validate(knn_model_10_90, X_train_10_90, y_train_10_90, cv=cv_strategy, scoring=scoring, n_jobs=-1)  # Parallel processing\n",
    "\n",
    "# Extracting scores\n",
    "accuracy_scores_10_90_knn = cv_results_10_90_knn['test_accuracy']\n",
    "recall_scores_10_90_knn = cv_results_10_90_knn['test_recall']\n",
    "precision_scores_10_90_knn = cv_results_10_90_knn['test_precision']\n",
    "f2_scores_10_90_knn = cv_results_10_90_knn['test_f2_score']\n",
    "mcc_scores_10_90_knn = cv_results_10_90_knn['test_mcc']\n",
    "\n",
    "# Print the mean and standard deviation of the scores for each metric\n",
    "print(f'Cross-validated accuracy (10:90 - KNN): {np.mean(accuracy_scores_10_90_knn)} (+\/- {np.std(accuracy_scores_10_90_knn)})')\n",
    "print(f'Cross-validated recall (10:90 - KNN): {np.mean(recall_scores_10_90_knn)} (+\/- {np.std(recall_scores_10_90_knn)})')\n",
    "print(f'Cross-validated precision (10:90 - KNN): {np.mean(precision_scores_10_90_knn)} (+\/- {np.std(precision_scores_10_90_knn)})')\n",
    "print(f'Cross-validated F2 score (10:90 - KNN): {np.mean(f2_scores_10_90_knn)} (+\/- {np.std(f2_scores_10_90_knn)})')\n",
    "print(f'Cross-validated MCC (10:90 - KNN): {np.mean(mcc_scores_10_90_knn)} (+\/- {np.std(mcc_scores_10_90_knn)})')"
   ],
   "execution_count":10,
   "outputs":[
    {
     "name":"stdout",
     "text":[
      "Cross-validated accuracy (10:90 - KNN): 0.9983972500649608 (+\/- 7.477681347859743e-05)\n",
      "Cross-validated recall (10:90 - KNN): 0.9997361999592825 (+\/- 0.00010771012144313258)\n",
      "Cross-validated precision (10:90 - KNN): 0.9829260243033723 (+\/- 0.0007329492619874523)\n",
      "Cross-validated F2 score (10:90 - KNN): 0.9963282465006947 (+\/- 0.00021153403603569893)\n",
      "Cross-validated MCC (10:90 - KNN): 0.990420753275945 (+\/- 0.00044309023525491916)\n"
     ],
     "output_type":"stream"
    }
   ],
   "metadata":{
    "datalore":{
     "node_id":"aRkuqRioGXON1MoxqwP56L",
     "type":"CODE",
     "hide_input_from_viewers":true,
     "hide_output_from_viewers":true
    }
   }
  }
 ],
 "metadata":{
  "kernelspec":{
   "display_name":"Python",
   "language":"python",
   "name":"python"
  },
  "datalore":{
   "computation_mode":"JUPYTER",
   "package_manager":"pip",
   "base_environment":"default",
   "packages":[
    
   ],
   "report_row_ids":[
    
   ],
   "version":3
  }
 },
 "nbformat":4,
 "nbformat_minor":4
}
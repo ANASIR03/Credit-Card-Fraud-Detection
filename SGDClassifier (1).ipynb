{
 "cells":[
  {
   "cell_type":"code",
   "source":[
    "import pandas as pd\n",
    "\n",
    "# Paths to the datasets\n",
    "training_data_34_66_path = '\/data\/notebook_files\/training_data_34_66.csv'\n",
    "training_data_10_90_path = '\/data\/notebook_files\/training_data_10_90.csv'\n",
    "X_test_path = '\/data\/notebook_files\/X_test.csv'\n",
    "y_test_path = '\/data\/notebook_files\/y_test.csv'\n",
    "\n",
    "# Loading the datasets\n",
    "training_data_34_66 = pd.read_csv(training_data_34_66_path)\n",
    "training_data_10_90 = pd.read_csv(training_data_10_90_path)\n",
    "X_test = pd.read_csv(X_test_path)\n",
    "y_test = pd.read_csv(y_test_path)"
   ],
   "execution_count":1,
   "outputs":[
    
   ],
   "metadata":{
    "datalore":{
     "node_id":"2JAGQUcCFUlLFa6gWejGsB",
     "type":"CODE",
     "hide_input_from_viewers":true,
     "hide_output_from_viewers":true
    }
   }
  },
  {
   "cell_type":"markdown",
   "source":[
    "# SGDClassifier Computation on the 34:66 Class Distribution"
   ],
   "attachments":{
    
   },
   "metadata":{
    "datalore":{
     "node_id":"eRd1DMaS6brO04Udv7V0me",
     "type":"MD",
     "hide_input_from_viewers":true,
     "hide_output_from_viewers":true
    }
   }
  },
  {
   "cell_type":"code",
   "source":[
    "X_train_34_66 = training_data_34_66.drop('Class', axis=1)\n",
    "y_train_34_66 = training_data_34_66['Class']\n",
    "\n",
    "y_test = y_test.squeeze() "
   ],
   "execution_count":2,
   "outputs":[
    
   ],
   "metadata":{
    "datalore":{
     "node_id":"FELRtDFTTTpb4e6Ha9QABn",
     "type":"CODE",
     "hide_input_from_viewers":true,
     "hide_output_from_viewers":true
    }
   }
  },
  {
   "cell_type":"code",
   "source":[
    "from sklearn.linear_model import SGDClassifier\n",
    "from sklearn.metrics import (accuracy_score, recall_score, precision_score, fbeta_score,\n",
    "                             roc_curve, roc_auc_score, confusion_matrix, matthews_corrcoef)\n",
    "from sklearn.preprocessing import StandardScaler\n",
    "from sklearn.pipeline import make_pipeline\n",
    "import matplotlib.pyplot as plt\n",
    "\n",
    "# Initialize the SGD Classifier with hinge loss, which gives a linear SVM\n",
    "sgd_model_34_66 = make_pipeline(StandardScaler(), SGDClassifier(loss='hinge'))\n",
    "\n",
    "# Train the model on the 34:66 resampled training data\n",
    "sgd_model_34_66.fit(X_train_34_66, y_train_34_66)\n",
    "\n",
    "# Predict on the test set\n",
    "y_pred_34_66_sgd = sgd_model_34_66.predict(X_test)\n",
    "\n",
    "# Since SGDClassifier does not provide predict_proba by default for hinge loss, we'll use decision function for ROC\n",
    "y_decision_34_66_sgd = sgd_model_34_66.decision_function(X_test)\n",
    "\n",
    "# Calculate evaluation metrics\n",
    "accuracy_34_66_sgd = accuracy_score(y_test, y_pred_34_66_sgd)\n",
    "recall_34_66_sgd = recall_score(y_test, y_pred_34_66_sgd)\n",
    "precision_34_66_sgd = precision_score(y_test, y_pred_34_66_sgd)\n",
    "f2_score_34_66_sgd = fbeta_score(y_test, y_pred_34_66_sgd, beta=2)\n",
    "roc_auc_34_66_sgd = roc_auc_score(y_test, y_decision_34_66_sgd)\n",
    "conf_matrix_34_66_sgd = confusion_matrix(y_test, y_pred_34_66_sgd)\n",
    "mcc_34_66_sgd = matthews_corrcoef(y_test, y_pred_34_66_sgd)\n",
    "\n",
    "# Extracting TN, FP, FN, TP from confusion matrix\n",
    "tn_34_66_sgd, fp_34_66_sgd, fn_34_66_sgd, tp_34_66_sgd = conf_matrix_34_66_sgd.ravel()\n",
    "\n",
    "# Specificity or True Negative Rate\n",
    "specificity_34_66_sgd = tn_34_66_sgd \/ (tn_34_66_sgd + fp_34_66_sgd)\n",
    "\n",
    "# Balanced Classification Rate (BCR) \n",
    "bcr_34_66_sgd = (recall_34_66_sgd + specificity_34_66_sgd) \/ 2\n",
    "\n",
    "# Print the metrics\n",
    "print(f'Accuracy (34:66): {accuracy_34_66_sgd}')\n",
    "print(f'Recall\/Sensitivity (34:66): {recall_34_66_sgd}')\n",
    "print(f'Specificity (34:66): {specificity_34_66_sgd}')\n",
    "print(f'Precision (34:66): {precision_34_66_sgd}')\n",
    "print(f'F2 Score (34:66): {f2_score_34_66_sgd}')\n",
    "print(f'Matthews Correlation Coefficient (MCC) (34:66): {mcc_34_66_sgd}')\n",
    "print(f'Balanced Classification Rate (BCR) (34:66): {bcr_34_66_sgd}')\n",
    "print(f'ROC AUC (34:66): {roc_auc_34_66_sgd}')\n",
    "print(f'Confusion Matrix (34:66):\\n{conf_matrix_34_66_sgd}')\n",
    "print(f'TN (34:66): {tn_34_66_sgd}, FP (34:66): {fp_34_66_sgd}, FN (34:66): {fn_34_66_sgd}, TP (34:66): {tp_34_66_sgd}')\n",
    "\n",
    "# ROC Curve - using decision scores\n",
    "fpr_34_66_sgd, tpr_34_66_sgd, _ = roc_curve(y_test, y_decision_34_66_sgd)\n",
    "plt.plot(fpr_34_66_sgd, tpr_34_66_sgd, label=f'AUC (34:66) = {roc_auc_34_66_sgd:.2f}')\n",
    "plt.plot([0, 1], [0, 1], 'k--')\n",
    "plt.xlabel('False Positive Rate')\n",
    "plt.ylabel('True Positive Rate')\n",
    "plt.title('ROC Curve (34:66 Dataset) - SGD')\n",
    "plt.legend(loc='lower right')\n",
    "plt.show()"
   ],
   "execution_count":4,
   "outputs":[
    {
     "name":"stdout",
     "text":[
      "Accuracy (34:66): 0.993715108317826\n",
      "Recall\/Sensitivity (34:66): 0.8673469387755102\n",
      "Specificity (34:66): 0.9939328925154756\n",
      "Precision (34:66): 0.19767441860465115\n",
      "F2 Score (34:66): 0.5170316301703163\n",
      "Matthews Correlation Coefficient (MCC) (34:66): 0.41237717141032315\n",
      "Balanced Classification Rate (BCR) (34:66): 0.9306399156454929\n",
      "ROC AUC (34:66): 0.9707449137505311\n",
      "Confusion Matrix (34:66):\n",
      "[[56519   345]\n",
      " [   13    85]]\n",
      "TN (34:66): 56519, FP (34:66): 345, FN (34:66): 13, TP (34:66): 85\n"
     ],
     "output_type":"stream"
    },
    {
     "data":{
      "image\/png":"[encoded data removed]"
     },
     "metadata":{
      "image\/png":{
       
      }
     },
     "output_type":"display_data"
    }
   ],
   "metadata":{
    "datalore":{
     "node_id":"in5ZDP6vqK9nGNJDCn6Acl",
     "type":"CODE",
     "hide_input_from_viewers":true,
     "hide_output_from_viewers":true
    }
   }
  },
  {
   "cell_type":"code",
   "source":[
    
   ],
   "execution_count":null,
   "outputs":[
    
   ],
   "metadata":{
    "datalore":{
     "node_id":"6Hy3Sv1byjTZR8pzLN6pIX",
     "type":"CODE",
     "hide_input_from_viewers":true,
     "hide_output_from_viewers":true
    }
   }
  },
  {
   "cell_type":"code",
   "source":[
    "from sklearn.model_selection import cross_validate, StratifiedKFold\n",
    "from sklearn.linear_model import SGDClassifier\n",
    "from sklearn.metrics import make_scorer, accuracy_score, recall_score, precision_score, fbeta_score, matthews_corrcoef\n",
    "from sklearn.preprocessing import StandardScaler\n",
    "import numpy as np\n",
    "\n",
    "# Initialize the SGD Classifier\n",
    "sgd_model_34_66 = make_pipeline(StandardScaler(), SGDClassifier(loss='hinge'))\n",
    "\n",
    "# Define the cross-validation strategy\n",
    "cv_strategy = StratifiedKFold(n_splits=5)\n",
    "\n",
    "# Define scoring functions for cross-validation\n",
    "scoring = {\n",
    "    'accuracy': make_scorer(accuracy_score),\n",
    "    'recall': make_scorer(recall_score),\n",
    "    'precision': make_scorer(precision_score),\n",
    "    'f2_score': make_scorer(fbeta_score, beta=2),\n",
    "    'mcc': make_scorer(matthews_corrcoef)\n",
    "}\n",
    "\n",
    "# Perform cross-validation\n",
    "cv_results_34_66_sgd = cross_validate(sgd_model_34_66, X_train_34_66, y_train_34_66, cv=cv_strategy, scoring=scoring, n_jobs=-1)\n",
    "\n",
    "# Extracting scores\n",
    "accuracy_scores_34_66_sgd = cv_results_34_66_sgd['test_accuracy']\n",
    "recall_scores_34_66_sgd = cv_results_34_66_sgd['test_recall']\n",
    "precision_scores_34_66_sgd = cv_results_34_66_sgd['test_precision']\n",
    "f2_scores_34_66_sgd = cv_results_34_66_sgd['test_f2_score']\n",
    "mcc_scores_34_66_sgd = cv_results_34_66_sgd['test_mcc']\n",
    "\n",
    "# Print the mean and standard deviation of the scores for each metric\n",
    "print(f'Cross-validated accuracy (34:66 - SGD): {np.mean(accuracy_scores_34_66_sgd)} (+\/- {np.std(accuracy_scores_34_66_sgd)})')\n",
    "print(f'Cross-validated recall (34:66 - SGD): {np.mean(recall_scores_34_66_sgd)} (+\/- {np.std(recall_scores_34_66_sgd)})')\n",
    "print(f'Cross-validated precision (34:66 - SGD): {np.mean(precision_scores_34_66_sgd)} (+\/- {np.std(precision_scores_34_66_sgd)})')\n",
    "print(f'Cross-validated F2 score (34:66 - SGD): {np.mean(f2_scores_34_66_sgd)} (+\/- {np.std(f2_scores_34_66_sgd)})')\n",
    "print(f'Cross-validated MCC (34:66 - SGD): {np.mean(mcc_scores_34_66_sgd)} (+\/- {np.std(mcc_scores_34_66_sgd)})')"
   ],
   "execution_count":7,
   "outputs":[
    {
     "name":"stdout",
     "text":[
      "Cross-validated accuracy (34:66 - SGD): 0.9638462903697421 (+\/- 0.00010643921777927567)\n",
      "Cross-validated recall (34:66 - SGD): 0.8761977158546426 (+\/- 0.0018402634391098227)\n",
      "Cross-validated precision (34:66 - SGD): 0.9791271400251969 (+\/- 0.0018721856672216717)\n",
      "Cross-validated F2 score (34:66 - SGD): 0.8950130453277735 (+\/- 0.0012333611327581373)\n",
      "Cross-validated MCC (34:66 - SGD): 0.9035134479562166 (+\/- 0.00028611013010741997)\n"
     ],
     "output_type":"stream"
    }
   ],
   "metadata":{
    "datalore":{
     "node_id":"3vrCPkj3LIKYzqPuvnYyYN",
     "type":"CODE",
     "hide_input_from_viewers":true,
     "hide_output_from_viewers":true
    }
   }
  },
  {
   "cell_type":"markdown",
   "source":[
    "# SGDClassifier Computation on the 10:90 Class Distribution"
   ],
   "attachments":{
    
   },
   "metadata":{
    "datalore":{
     "node_id":"z0z5kvYvt05N4VSEOlFmnq",
     "type":"MD",
     "hide_input_from_viewers":true,
     "hide_output_from_viewers":true
    }
   }
  },
  {
   "cell_type":"code",
   "source":[
    "X_train_10_90 = training_data_10_90.drop('Class', axis=1)\n",
    "y_train_10_90 = training_data_10_90['Class']\n",
    "\n",
    "y_test = y_test.squeeze() "
   ],
   "execution_count":5,
   "outputs":[
    
   ],
   "metadata":{
    "datalore":{
     "node_id":"wLgCNVZDHcXA4tz5nFRcaz",
     "type":"CODE",
     "hide_input_from_viewers":true,
     "hide_output_from_viewers":true
    }
   }
  },
  {
   "cell_type":"code",
   "source":[
    "# Initialize the SGD Classifier with hinge loss for the 10:90 class distribution\n",
    "sgd_model_10_90 = make_pipeline(StandardScaler(), SGDClassifier(loss='hinge'))\n",
    "\n",
    "# Train the model on the 10:90 resampled training data\n",
    "sgd_model_10_90.fit(X_train_10_90, y_train_10_90)\n",
    "\n",
    "# Predict on the test set\n",
    "y_pred_10_90_sgd = sgd_model_10_90.predict(X_test)\n",
    "\n",
    "# Since SGDClassifier does not provide predict_proba for hinge loss, use decision function for ROC\n",
    "y_decision_10_90_sgd = sgd_model_10_90.decision_function(X_test)\n",
    "\n",
    "# Calculate evaluation metrics\n",
    "accuracy_10_90_sgd = accuracy_score(y_test, y_pred_10_90_sgd)\n",
    "recall_10_90_sgd = recall_score(y_test, y_pred_10_90_sgd)\n",
    "precision_10_90_sgd = precision_score(y_test, y_pred_10_90_sgd)\n",
    "f2_score_10_90_sgd = fbeta_score(y_test, y_pred_10_90_sgd, beta=2)\n",
    "roc_auc_10_90_sgd = roc_auc_score(y_test, y_decision_10_90_sgd)\n",
    "conf_matrix_10_90_sgd = confusion_matrix(y_test, y_pred_10_90_sgd)\n",
    "mcc_10_90_sgd = matthews_corrcoef(y_test, y_pred_10_90_sgd)\n",
    "\n",
    "# Extracting TN, FP, FN, TP from confusion matrix\n",
    "tn_10_90_sgd, fp_10_90_sgd, fn_10_90_sgd, tp_10_90_sgd = conf_matrix_10_90_sgd.ravel()\n",
    "\n",
    "# Specificity or True Negative Rate\n",
    "specificity_10_90_sgd = tn_10_90_sgd \/ (tn_10_90_sgd + fp_10_90_sgd)\n",
    "\n",
    "# Balanced Classification Rate (BCR) \n",
    "bcr_10_90_sgd = (recall_10_90_sgd + specificity_10_90_sgd) \/ 2\n",
    "\n",
    "# Print the metrics\n",
    "print(f'Accuracy (10:90): {accuracy_10_90_sgd}')\n",
    "print(f'Recall\/Sensitivity (10:90): {recall_10_90_sgd}')\n",
    "print(f'Specificity (10:90): {specificity_10_90_sgd}')\n",
    "print(f'Precision (10:90): {precision_10_90_sgd}')\n",
    "print(f'F2 Score (10:90): {f2_score_10_90_sgd}')\n",
    "print(f'Matthews Correlation Coefficient (MCC) (10:90): {mcc_10_90_sgd}')\n",
    "print(f'Balanced Classification Rate (BCR) (10:90): {bcr_10_90_sgd}')\n",
    "print(f'ROC AUC (10:90): {roc_auc_10_90_sgd}')\n",
    "print(f'Confusion Matrix (10:90):\\n{conf_matrix_10_90_sgd}')\n",
    "print(f'TN (10:90): {tn_10_90_sgd}, FP (10:90): {fp_10_90_sgd}, FN (10:90): {fn_10_90_sgd}, TP (10:90): {tp_10_90_sgd}')\n",
    "\n",
    "# ROC Curve - using decision scores\n",
    "fpr_10_90_sgd, tpr_10_90_sgd, _ = roc_curve(y_test, y_decision_10_90_sgd)\n",
    "plt.plot(fpr_10_90_sgd, tpr_10_90_sgd, label=f'AUC (10:90) = {roc_auc_10_90_sgd:.2f}')\n",
    "plt.plot([0, 1], [0, 1], 'k--')\n",
    "plt.xlabel('False Positive Rate')\n",
    "plt.ylabel('True Positive Rate')\n",
    "plt.title('ROC Curve (10:90 Dataset) - SGD')\n",
    "plt.legend(loc='lower right')\n",
    "plt.show()"
   ],
   "execution_count":6,
   "outputs":[
    {
     "name":"stdout",
     "text":[
      "Accuracy (10:90): 0.9991924440855307\n",
      "Recall\/Sensitivity (10:90): 0.8061224489795918\n",
      "Specificity (10:90): 0.9995251828925155\n",
      "Precision (10:90): 0.7452830188679245\n",
      "F2 Score (10:90): 0.7931726907630522\n",
      "Matthews Correlation Coefficient (MCC) (10:90): 0.7747039885378211\n",
      "Balanced Classification Rate (BCR) (10:90): 0.9028238159360537\n",
      "ROC AUC (10:90): 0.9766659512707729\n",
      "Confusion Matrix (10:90):\n",
      "[[56837    27]\n",
      " [   19    79]]\n",
      "TN (10:90): 56837, FP (10:90): 27, FN (10:90): 19, TP (10:90): 79\n"
     ],
     "output_type":"stream"
    },
    {
     "data":{
      "image\/png":"[encoded data removed]"
     },
     "metadata":{
      "image\/png":{
       
      }
     },
     "output_type":"display_data"
    }
   ],
   "metadata":{
    "datalore":{
     "node_id":"PsADtzhrrsOv8OArArCmUp",
     "type":"CODE",
     "hide_input_from_viewers":true,
     "hide_output_from_viewers":true
    }
   }
  },
  {
   "cell_type":"code",
   "source":[
    "from sklearn.model_selection import cross_validate, StratifiedKFold\n",
    "from sklearn.linear_model import SGDClassifier\n",
    "from sklearn.metrics import make_scorer, accuracy_score, recall_score, precision_score, fbeta_score, matthews_corrcoef\n",
    "from sklearn.preprocessing import StandardScaler\n",
    "import numpy as np\n",
    "\n",
    "# Initialize the SGD Classifier\n",
    "sgd_model_10_90 = make_pipeline(StandardScaler(), SGDClassifier(loss='hinge'))\n",
    "\n",
    "# Define the cross-validation strategy\n",
    "cv_strategy = StratifiedKFold(n_splits=5)\n",
    "\n",
    "# Define scoring functions for cross-validation\n",
    "scoring = {\n",
    "    'accuracy': make_scorer(accuracy_score),\n",
    "    'recall': make_scorer(recall_score),\n",
    "    'precision': make_scorer(precision_score),\n",
    "    'f2_score': make_scorer(fbeta_score, beta=2),\n",
    "    'mcc': make_scorer(matthews_corrcoef)\n",
    "}\n",
    "\n",
    "# Perform cross-validation\n",
    "cv_results_10_90_sgd = cross_validate(sgd_model_10_90, X_train_10_90, y_train_10_90, cv=cv_strategy, scoring=scoring, n_jobs=-1)\n",
    "\n",
    "# Extracting scores\n",
    "accuracy_scores_10_90_sgd = cv_results_10_90_sgd['test_accuracy']\n",
    "recall_scores_10_90_sgd = cv_results_10_90_sgd['test_recall']\n",
    "precision_scores_10_90_sgd = cv_results_10_90_sgd['test_precision']\n",
    "f2_scores_10_90_sgd = cv_results_10_90_sgd['test_f2_score']\n",
    "mcc_scores_10_90_sgd = cv_results_10_90_sgd['test_mcc']\n",
    "\n",
    "# Print the mean and standard deviation of the scores for each metric\n",
    "print(f'Cross-validated accuracy (10:90 - SGD): {np.mean(accuracy_scores_10_90_sgd)} (+\/- {np.std(accuracy_scores_10_90_sgd)})')\n",
    "print(f'Cross-validated recall (10:90 - SGD): {np.mean(recall_scores_10_90_sgd)} (+\/- {np.std(recall_scores_10_90_sgd)})')\n",
    "print(f'Cross-validated precision (10:90 - SGD): {np.mean(precision_scores_10_90_sgd)} (+\/- {np.std(precision_scores_10_90_sgd)})')\n",
    "print(f'Cross-validated F2 score (10:90 - SGD): {np.mean(f2_scores_10_90_sgd)} (+\/- {np.std(f2_scores_10_90_sgd)})')\n",
    "print(f'Cross-validated MCC (10:90 - SGD): {np.mean(mcc_scores_10_90_sgd)} (+\/- {np.std(mcc_scores_10_90_sgd)})')"
   ],
   "execution_count":8,
   "outputs":[
    {
     "name":"stdout",
     "text":[
      "Cross-validated accuracy (10:90 - SGD): 0.9836047882651531 (+\/- 0.0006722133639131615)\n",
      "Cross-validated recall (10:90 - SGD): 0.8256320070345131 (+\/- 0.008048726896805455)\n",
      "Cross-validated precision (10:90 - SGD): 0.9928202238329348 (+\/- 0.0015429614632922807)\n",
      "Cross-validated F2 score (10:90 - SGD): 0.8543941938067583 (+\/- 0.00678400706893299)\n",
      "Cross-validated MCC (10:90 - SGD): 0.8971867569584482 (+\/- 0.0043774259410552414)\n"
     ],
     "output_type":"stream"
    }
   ],
   "metadata":{
    "datalore":{
     "node_id":"NXHvBf5MzSVzAZRg5k49oX",
     "type":"CODE",
     "hide_input_from_viewers":true,
     "hide_output_from_viewers":true
    }
   }
  }
 ],
 "metadata":{
  "kernelspec":{
   "display_name":"Python",
   "language":"python",
   "name":"python"
  },
  "datalore":{
   "computation_mode":"JUPYTER",
   "package_manager":"pip",
   "base_environment":"default",
   "packages":[
    
   ],
   "report_row_ids":[
    
   ],
   "version":3
  }
 },
 "nbformat":4,
 "nbformat_minor":4
}
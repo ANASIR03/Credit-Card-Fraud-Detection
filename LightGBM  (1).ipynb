{
 "cells":[
  {
   "cell_type":"code",
   "source":[
    "import pandas as pd\n",
    "\n",
    "# Paths to the datasets\n",
    "training_data_34_66_path = '\/data\/notebook_files\/training_data_34_66.csv'\n",
    "training_data_10_90_path = '\/data\/notebook_files\/training_data_10_90.csv'\n",
    "X_test_path = '\/data\/notebook_files\/X_test.csv'\n",
    "y_test_path = '\/data\/notebook_files\/y_test.csv'\n",
    "\n",
    "# Loading the datasets\n",
    "training_data_34_66 = pd.read_csv(training_data_34_66_path)\n",
    "training_data_10_90 = pd.read_csv(training_data_10_90_path)\n",
    "X_test = pd.read_csv(X_test_path)\n",
    "y_test = pd.read_csv(y_test_path)"
   ],
   "execution_count":1,
   "outputs":[
    
   ],
   "metadata":{
    "datalore":{
     "node_id":"2JAGQUcCFUlLFa6gWejGsB",
     "type":"CODE",
     "hide_input_from_viewers":true,
     "hide_output_from_viewers":true
    }
   }
  },
  {
   "cell_type":"markdown",
   "source":[
    "# LightGBM Computation on the 34:66 Class Distribution"
   ],
   "attachments":{
    
   },
   "metadata":{
    "datalore":{
     "node_id":"eRd1DMaS6brO04Udv7V0me",
     "type":"MD",
     "hide_input_from_viewers":true,
     "hide_output_from_viewers":true
    }
   }
  },
  {
   "cell_type":"code",
   "source":[
    "X_train_34_66 = training_data_34_66.drop('Class', axis=1)\n",
    "y_train_34_66 = training_data_34_66['Class']\n",
    "\n",
    "y_test = y_test.squeeze() "
   ],
   "execution_count":2,
   "outputs":[
    
   ],
   "metadata":{
    "datalore":{
     "node_id":"FELRtDFTTTpb4e6Ha9QABn",
     "type":"CODE",
     "hide_input_from_viewers":true,
     "hide_output_from_viewers":true
    }
   }
  },
  {
   "cell_type":"code",
   "source":[
    "!pip install lightgbm"
   ],
   "execution_count":4,
   "outputs":[
    {
     "name":"stdout",
     "text":[
      "Collecting lightgbm\r\n",
      "  Downloading lightgbm-4.1.0-py3-none-manylinux_2_28_x86_64.whl (3.1 MB)\r\n",
      "\u001b[?25l     \u001b[90m━━━━━━━━━━━━━━━━━━━━━━━━━━━━━━━━━━━━━━━━\u001b[0m \u001b[32m0.0\/3.1 MB\u001b[0m \u001b[31m?\u001b[0m eta \u001b[36m-:--:--\u001b[0m\r\u001b[2K     \u001b[91m━━━━━━━━━━━━━━━━━━━━━\u001b[0m\u001b[91m╸\u001b[0m\u001b[90m━━━━━━━━━━━━━━━━━━\u001b[0m \u001b[32m1.7\/3.1 MB\u001b[0m \u001b[31m50.0 MB\/s\u001b[0m eta \u001b[36m0:00:01\u001b[0m\r\u001b[2K     \u001b[90m━━━━━━━━━━━━━━━━━━━━━━━━━━━━━━━━━━━━━━━━\u001b[0m \u001b[32m3.1\/3.1 MB\u001b[0m \u001b[31m45.4 MB\/s\u001b[0m eta \u001b[36m0:00:00\u001b[0m\r\n",
      "\u001b[?25hRequirement already satisfied: numpy in \/opt\/python\/envs\/default\/lib\/python3.8\/site-packages (from lightgbm) (1.24.3)\r\n",
      "Requirement already satisfied: scipy in \/opt\/python\/envs\/default\/lib\/python3.8\/site-packages (from lightgbm) (1.9.1)\r\n",
      "Installing collected packages: lightgbm\r\n",
      "Successfully installed lightgbm-4.1.0\r\n",
      "\r\n",
      "\u001b[1m[\u001b[0m\u001b[34;49mnotice\u001b[0m\u001b[1;39;49m]\u001b[0m\u001b[39;49m A new release of pip is available: \u001b[0m\u001b[31;49m23.1.2\u001b[0m\u001b[39;49m -> \u001b[0m\u001b[32;49m23.3.1\u001b[0m\r\n",
      "\u001b[1m[\u001b[0m\u001b[34;49mnotice\u001b[0m\u001b[1;39;49m]\u001b[0m\u001b[39;49m To update, run: \u001b[0m\u001b[32;49mpip install --upgrade pip\u001b[0m\r\n"
     ],
     "output_type":"stream"
    }
   ],
   "metadata":{
    "datalore":{
     "node_id":"iu1Gv8x8HCrAWQpFS6VMEd",
     "type":"CODE",
     "hide_input_from_viewers":true,
     "hide_output_from_viewers":true
    }
   }
  },
  {
   "cell_type":"code",
   "source":[
    "import lightgbm as lgb\n",
    "from sklearn.metrics import (accuracy_score, recall_score, precision_score, fbeta_score,\n",
    "                             roc_curve, roc_auc_score, confusion_matrix, matthews_corrcoef)\n",
    "import matplotlib.pyplot as plt\n",
    "\n",
    "# Initialize the LightGBM Classifier\n",
    "lgb_model_34_66 = lgb.LGBMClassifier()\n",
    "\n",
    "# Train the model on the 34:66 resampled training data\n",
    "lgb_model_34_66.fit(X_train_34_66, y_train_34_66)\n",
    "\n",
    "# Predict on the test set\n",
    "y_pred_34_66_lgb = lgb_model_34_66.predict(X_test)\n",
    "y_pred_proba_34_66_lgb = lgb_model_34_66.predict_proba(X_test)[:, 1]\n",
    "\n",
    "# Calculate evaluation metrics\n",
    "accuracy_34_66_lgb = accuracy_score(y_test, y_pred_34_66_lgb)\n",
    "recall_34_66_lgb = recall_score(y_test, y_pred_34_66_lgb)\n",
    "precision_34_66_lgb = precision_score(y_test, y_pred_34_66_lgb)\n",
    "f2_score_34_66_lgb = fbeta_score(y_test, y_pred_34_66_lgb, beta=2)\n",
    "roc_auc_34_66_lgb = roc_auc_score(y_test, y_pred_proba_34_66_lgb)\n",
    "conf_matrix_34_66_lgb = confusion_matrix(y_test, y_pred_34_66_lgb)\n",
    "mcc_34_66_lgb = matthews_corrcoef(y_test, y_pred_34_66_lgb)\n",
    "\n",
    "# Extracting TN, FP, FN, TP from confusion matrix\n",
    "tn_34_66_lgb, fp_34_66_lgb, fn_34_66_lgb, tp_34_66_lgb = conf_matrix_34_66_lgb.ravel()\n",
    "\n",
    "# Specificity or True Negative Rate\n",
    "specificity_34_66_lgb = tn_34_66_lgb \/ (tn_34_66_lgb + fp_34_66_lgb)\n",
    "\n",
    "# Balanced Classification Rate (BCR)\n",
    "bcr_34_66_lgb = (recall_34_66_lgb + specificity_34_66_lgb) \/ 2\n",
    "\n",
    "# Print the metrics\n",
    "print(f'Accuracy (34:66): {accuracy_34_66_lgb}')\n",
    "print(f'Recall\/Sensitivity (34:66): {recall_34_66_lgb}')\n",
    "print(f'Specificity (34:66): {specificity_34_66_lgb}')\n",
    "print(f'Precision (34:66): {precision_34_66_lgb}')\n",
    "print(f'F2 Score (34:66): {f2_score_34_66_lgb}')\n",
    "print(f'Matthews Correlation Coefficient (MCC) (34:66): {mcc_34_66_lgb}')\n",
    "print(f'Balanced Classification Rate (BCR) (34:66): {bcr_34_66_lgb}')\n",
    "print(f'ROC AUC (34:66): {roc_auc_34_66_lgb}')\n",
    "print(f'Confusion Matrix (34:66):\\n{conf_matrix_34_66_lgb}')\n",
    "print(f'TN (34:66): {tn_34_66_lgb}, FP (34:66): {fp_34_66_lgb}, FN (34:66): {fn_34_66_lgb}, TP (34:66): {tp_34_66_lgb}')\n",
    "\n",
    "# ROC Curve\n",
    "fpr_34_66_lgb, tpr_34_66_lgb, _ = roc_curve(y_test, y_pred_proba_34_66_lgb)\n",
    "plt.plot(fpr_34_66_lgb, tpr_34_66_lgb, label=f'AUC (34:66) = {roc_auc_34_66_lgb:.2f}')\n",
    "plt.plot([0, 1], [0, 1], 'k--')\n",
    "plt.xlabel('False Positive Rate')\n",
    "plt.ylabel('True Positive Rate')\n",
    "plt.title('ROC Curve (34:66 Dataset) - LightGBM')\n",
    "plt.legend(loc='lower right')\n",
    "plt.show()"
   ],
   "execution_count":5,
   "outputs":[
    {
     "name":"stdout",
     "text":[
      "[LightGBM] [Info] Number of positive: 77333, number of negative: 227449\n",
      "[LightGBM] [Info] Auto-choosing col-wise multi-threading, the overhead of testing was 0.063928 seconds.\n",
      "You can set `force_col_wise=true` to remove the overhead.\n",
      "[LightGBM] [Info] Total Bins 7650\n",
      "[LightGBM] [Info] Number of data points in the train set: 304782, number of used features: 30\n",
      "[LightGBM] [Info] [binary:BoostFromScore]: pavg=0.253732 -> initscore=-1.078805\n",
      "[LightGBM] [Info] Start training from score -1.078805\n",
      "Accuracy (34:66): 0.9991046662687406\n",
      "Recall\/Sensitivity (34:66): 0.8469387755102041\n",
      "Specificity (34:66): 0.9993669105233539\n",
      "Precision (34:66): 0.6974789915966386\n",
      "F2 Score (34:66): 0.812133072407045\n",
      "Matthews Correlation Coefficient (MCC) (34:66): 0.7681517488916981\n",
      "Balanced Classification Rate (BCR) (34:66): 0.923152843016779\n",
      "ROC AUC (34:66): 0.9879779394875564\n",
      "Confusion Matrix (34:66):\n",
      "[[56828    36]\n",
      " [   15    83]]\n",
      "TN (34:66): 56828, FP (34:66): 36, FN (34:66): 15, TP (34:66): 83\n"
     ],
     "output_type":"stream"
    },
    {
     "data":{
      "image\/png":"[encoded data removed]"
     },
     "metadata":{
      "image\/png":{
       
      }
     },
     "output_type":"display_data"
    }
   ],
   "metadata":{
    "datalore":{
     "node_id":"in5ZDP6vqK9nGNJDCn6Acl",
     "type":"CODE",
     "hide_input_from_viewers":true,
     "hide_output_from_viewers":true
    }
   }
  },
  {
   "cell_type":"code",
   "source":[
    "from sklearn.model_selection import cross_validate, StratifiedKFold\n",
    "import lightgbm as lgb\n",
    "from sklearn.metrics import make_scorer, accuracy_score, recall_score, precision_score, fbeta_score, matthews_corrcoef\n",
    "import numpy as np\n",
    "\n",
    "# Initialize the LightGBM Classifier\n",
    "lgb_model_34_66 = lgb.LGBMClassifier()\n",
    "\n",
    "# Define the cross-validation strategy\n",
    "cv_strategy = StratifiedKFold(n_splits=5)\n",
    "\n",
    "# Define scoring functions for cross-validation\n",
    "scoring = {\n",
    "    'accuracy': make_scorer(accuracy_score),\n",
    "    'recall': make_scorer(recall_score),\n",
    "    'precision': make_scorer(precision_score),\n",
    "    'f2_score': make_scorer(fbeta_score, beta=2),\n",
    "    'mcc': make_scorer(matthews_corrcoef)\n",
    "}\n",
    "\n",
    "# Perform cross-validation\n",
    "cv_results_34_66_lgb = cross_validate(lgb_model_34_66, X_train_34_66, y_train_34_66, cv=cv_strategy, scoring=scoring, n_jobs=-1)\n",
    "\n",
    "# Extracting scores\n",
    "accuracy_scores_34_66_lgb = cv_results_34_66_lgb['test_accuracy']\n",
    "recall_scores_34_66_lgb = cv_results_34_66_lgb['test_recall']\n",
    "precision_scores_34_66_lgb = cv_results_34_66_lgb['test_precision']\n",
    "f2_scores_34_66_lgb = cv_results_34_66_lgb['test_f2_score']\n",
    "mcc_scores_34_66_lgb = cv_results_34_66_lgb['test_mcc']\n",
    "\n",
    "# Print the mean and standard deviation of the scores for each metric\n",
    "print(f'Cross-validated accuracy (34:66 - LightGBM): {np.mean(accuracy_scores_34_66_lgb)} (+\/- {np.std(accuracy_scores_34_66_lgb)})')\n",
    "print(f'Cross-validated recall (34:66 - LightGBM): {np.mean(recall_scores_34_66_lgb)} (+\/- {np.std(recall_scores_34_66_lgb)})')\n",
    "print(f'Cross-validated precision (34:66 - LightGBM): {np.mean(precision_scores_34_66_lgb)} (+\/- {np.std(precision_scores_34_66_lgb)})')\n",
    "print(f'Cross-validated F2 score (34:66 - LightGBM): {np.mean(f2_scores_34_66_lgb)} (+\/- {np.std(f2_scores_34_66_lgb)})')\n",
    "print(f'Cross-validated MCC (34:66 - LightGBM): {np.mean(mcc_scores_34_66_lgb)} (+\/- {np.std(mcc_scores_34_66_lgb)})')"
   ],
   "execution_count":6,
   "outputs":[
    {
     "name":"stdout",
     "text":[
      "Cross-validated accuracy (34:66 - LightGBM): 0.9993339506412843 (+\/- 8.403166588472257e-05)\n",
      "Cross-validated recall (34:66 - LightGBM): 0.9995732783699014 (+\/- 0.00021867427612171217)\n",
      "Cross-validated precision (34:66 - LightGBM): 0.9978056694156109 (+\/- 0.00025105281306831253)\n",
      "Cross-validated F2 score (34:66 - LightGBM): 0.9992192377167453 (+\/- 0.00018127706254647763)\n",
      "Cross-validated MCC (34:66 - LightGBM): 0.9982430029149443 (+\/- 0.00022167284091856963)\n"
     ],
     "output_type":"stream"
    }
   ],
   "metadata":{
    "datalore":{
     "node_id":"Oq5Rjyst9PCM4gP14Sh1xF",
     "type":"CODE",
     "hide_input_from_viewers":true,
     "hide_output_from_viewers":true
    }
   }
  },
  {
   "cell_type":"markdown",
   "source":[
    "# LightGBM Computation on the 10:90 Class Distribution"
   ],
   "attachments":{
    
   },
   "metadata":{
    "datalore":{
     "node_id":"z0z5kvYvt05N4VSEOlFmnq",
     "type":"MD",
     "hide_input_from_viewers":true,
     "hide_output_from_viewers":true
    }
   }
  },
  {
   "cell_type":"code",
   "source":[
    "X_train_10_90 = training_data_10_90.drop('Class', axis=1)\n",
    "y_train_10_90 = training_data_10_90['Class']\n",
    "\n",
    "y_test = y_test.squeeze() "
   ],
   "execution_count":7,
   "outputs":[
    
   ],
   "metadata":{
    "datalore":{
     "node_id":"wLgCNVZDHcXA4tz5nFRcaz",
     "type":"CODE",
     "hide_input_from_viewers":true,
     "hide_output_from_viewers":true
    }
   }
  },
  {
   "cell_type":"code",
   "source":[
    "# Initialize the LightGBM Classifier for the 10:90 class distribution\n",
    "lgb_model_10_90 = lgb.LGBMClassifier()\n",
    "\n",
    "# Train the model on the 10:90 resampled training data\n",
    "lgb_model_10_90.fit(X_train_10_90, y_train_10_90)\n",
    "\n",
    "# Predict on the test set\n",
    "y_pred_10_90_lgb = lgb_model_10_90.predict(X_test)\n",
    "y_pred_proba_10_90_lgb = lgb_model_10_90.predict_proba(X_test)[:, 1]\n",
    "\n",
    "# Calculate evaluation metrics\n",
    "accuracy_10_90_lgb = accuracy_score(y_test, y_pred_10_90_lgb)\n",
    "recall_10_90_lgb = recall_score(y_test, y_pred_10_90_lgb)\n",
    "precision_10_90_lgb = precision_score(y_test, y_pred_10_90_lgb)\n",
    "f2_score_10_90_lgb = fbeta_score(y_test, y_pred_10_90_lgb, beta=2)\n",
    "roc_auc_10_90_lgb = roc_auc_score(y_test, y_pred_proba_10_90_lgb)\n",
    "conf_matrix_10_90_lgb = confusion_matrix(y_test, y_pred_10_90_lgb)\n",
    "mcc_10_90_lgb = matthews_corrcoef(y_test, y_pred_10_90_lgb)\n",
    "\n",
    "# Extracting TN, FP, FN, TP from confusion matrix\n",
    "tn_10_90_lgb, fp_10_90_lgb, fn_10_90_lgb, tp_10_90_lgb = conf_matrix_10_90_lgb.ravel()\n",
    "\n",
    "# Specificity or True Negative Rate\n",
    "specificity_10_90_lgb = tn_10_90_lgb \/ (tn_10_90_lgb + fp_10_90_lgb)\n",
    "\n",
    "# Balanced Classification Rate (BCR)\n",
    "bcr_10_90_lgb = (recall_10_90_lgb + specificity_10_90_lgb) \/ 2\n",
    "\n",
    "# Print the metrics\n",
    "print(f'Accuracy (10:90): {accuracy_10_90_lgb}')\n",
    "print(f'Recall\/Sensitivity (10:90): {recall_10_90_lgb}')\n",
    "print(f'Specificity (10:90): {specificity_10_90_lgb}')\n",
    "print(f'Precision (10:90): {precision_10_90_lgb}')\n",
    "print(f'F2 Score (10:90): {f2_score_10_90_lgb}')\n",
    "print(f'Matthews Correlation Coefficient (MCC) (10:90): {mcc_10_90_lgb}')\n",
    "print(f'Balanced Classification Rate (BCR) (10:90): {bcr_10_90_lgb}')\n",
    "print(f'ROC AUC (10:90): {roc_auc_10_90_lgb}')\n",
    "print(f'Confusion Matrix (10:90):\\n{conf_matrix_10_90_lgb}')\n",
    "print(f'TN (10:90): {tn_10_90_lgb}, FP (10:90): {fp_10_90_lgb}, FN (10:90): {fn_10_90_lgb}, TP (10:90): {tp_10_90_lgb}')\n",
    "\n",
    "# ROC Curve\n",
    "fpr_10_90_lgb, tpr_10_90_lgb, _ = roc_curve(y_test, y_pred_proba_10_90_lgb)\n",
    "plt.plot(fpr_10_90_lgb, tpr_10_90_lgb, label=f'AUC (10:90) = {roc_auc_10_90_lgb:.2f}')\n",
    "plt.plot([0, 1], [0, 1], 'k--')\n",
    "plt.xlabel('False Positive Rate')\n",
    "plt.ylabel('True Positive Rate')\n",
    "plt.title('ROC Curve (10:90 Dataset) - LightGBM')\n",
    "plt.legend(loc='lower right')\n",
    "plt.show()"
   ],
   "execution_count":8,
   "outputs":[
    {
     "name":"stdout",
     "text":[
      "[LightGBM] [Info] Number of positive: 22745, number of negative: 227450\n",
      "[LightGBM] [Info] Auto-choosing col-wise multi-threading, the overhead of testing was 0.046971 seconds.\n",
      "You can set `force_col_wise=true` to remove the overhead.\n",
      "[LightGBM] [Info] Total Bins 7650\n",
      "[LightGBM] [Info] Number of data points in the train set: 250195, number of used features: 30\n",
      "[LightGBM] [Info] [binary:BoostFromScore]: pavg=0.090909 -> initscore=-2.302585\n",
      "[LightGBM] [Info] Start training from score -2.302585\n",
      "Accuracy (10:90): 0.9993679997191109\n",
      "Recall\/Sensitivity (10:90): 0.8469387755102041\n",
      "Specificity (10:90): 0.9996306978052898\n",
      "Precision (10:90): 0.7980769230769231\n",
      "F2 Score (10:90): 0.8366935483870969\n",
      "Matthews Correlation Coefficient (MCC) (10:90): 0.8218298014848779\n",
      "Balanced Classification Rate (BCR) (10:90): 0.923284736657747\n",
      "ROC AUC (10:90): 0.9852634427434451\n",
      "Confusion Matrix (10:90):\n",
      "[[56843    21]\n",
      " [   15    83]]\n",
      "TN (10:90): 56843, FP (10:90): 21, FN (10:90): 15, TP (10:90): 83\n"
     ],
     "output_type":"stream"
    },
    {
     "data":{
      "image\/png":"[encoded data removed]"
     },
     "metadata":{
      "image\/png":{
       
      }
     },
     "output_type":"display_data"
    }
   ],
   "metadata":{
    "datalore":{
     "node_id":"PsADtzhrrsOv8OArArCmUp",
     "type":"CODE",
     "hide_input_from_viewers":true,
     "hide_output_from_viewers":true
    }
   }
  },
  {
   "cell_type":"code",
   "source":[
    "from sklearn.model_selection import cross_validate, StratifiedKFold\n",
    "import lightgbm as lgb\n",
    "from sklearn.metrics import make_scorer, accuracy_score, recall_score, precision_score, fbeta_score, matthews_corrcoef\n",
    "import numpy as np\n",
    "\n",
    "lgb_model_10_90 = lgb.LGBMClassifier()\n",
    "\n",
    "# Define the cross-validation strategy\n",
    "cv_strategy = StratifiedKFold(n_splits=5)\n",
    "\n",
    "# Define scoring functions for cross-validation\n",
    "scoring = {\n",
    "    'accuracy': make_scorer(accuracy_score),\n",
    "    'recall': make_scorer(recall_score),\n",
    "    'precision': make_scorer(precision_score),\n",
    "    'f2_score': make_scorer(fbeta_score, beta=2),\n",
    "    'mcc': make_scorer(matthews_corrcoef)\n",
    "}\n",
    "\n",
    "# Perform cross-validation\n",
    "cv_results_10_90_lgb = cross_validate(lgb_model_10_90, X_train_10_90, y_train_10_90, cv=cv_strategy, scoring=scoring, n_jobs=-1)\n",
    "\n",
    "# Extracting scores\n",
    "accuracy_scores_10_90_lgb = cv_results_10_90_lgb['test_accuracy']\n",
    "recall_scores_10_90_lgb = cv_results_10_90_lgb['test_recall']\n",
    "precision_scores_10_90_lgb = cv_results_10_90_lgb['test_precision']\n",
    "f2_scores_10_90_lgb = cv_results_10_90_lgb['test_f2_score']\n",
    "mcc_scores_10_90_lgb = cv_results_10_90_lgb['test_mcc']\n",
    "\n",
    "# Print the mean and standard deviation of the scores for each metric\n",
    "print(f'Cross-validated accuracy (10:90 - LightGBM): {np.mean(accuracy_scores_10_90_lgb)} (+\/- {np.std(accuracy_scores_10_90_lgb)})')\n",
    "print(f'Cross-validated recall (10:90 - LightGBM): {np.mean(recall_scores_10_90_lgb)} (+\/- {np.std(recall_scores_10_90_lgb)})')\n",
    "print(f'Cross-validated precision (10:90 - LightGBM): {np.mean(precision_scores_10_90_lgb)} (+\/- {np.std(precision_scores_10_90_lgb)})')\n",
    "print(f'Cross-validated F2 score (10:90 - LightGBM): {np.mean(f2_scores_10_90_lgb)} (+\/- {np.std(f2_scores_10_90_lgb)})')\n",
    "print(f'Cross-validated MCC (10:90 - LightGBM): {np.mean(mcc_scores_10_90_lgb)} (+\/- {np.std(mcc_scores_10_90_lgb)})')"
   ],
   "execution_count":10,
   "outputs":[
    {
     "name":"stdout",
     "text":[
      "Cross-validated accuracy (10:90 - LightGBM): 0.999112692100162 (+\/- 0.00021693905545854385)\n",
      "Cross-validated recall (10:90 - LightGBM): 0.9942404924159156 (+\/- 0.0017717688880729773)\n",
      "Cross-validated precision (10:90 - LightGBM): 0.9959923601143815 (+\/- 0.0010265182882995508)\n",
      "Cross-validated F2 score (10:90 - LightGBM): 0.9945899444082149 (+\/- 0.0015162894681600419)\n",
      "Cross-validated MCC (10:90 - LightGBM): 0.9946278857673218 (+\/- 0.0013159721840820561)\n"
     ],
     "output_type":"stream"
    }
   ],
   "metadata":{
    "datalore":{
     "node_id":"R2mqxPv63jHqTbdhjaLfOL",
     "type":"CODE",
     "hide_input_from_viewers":true,
     "hide_output_from_viewers":true
    }
   }
  }
 ],
 "metadata":{
  "kernelspec":{
   "display_name":"Python",
   "language":"python",
   "name":"python"
  },
  "datalore":{
   "computation_mode":"JUPYTER",
   "package_manager":"pip",
   "base_environment":"default",
   "packages":[
    
   ],
   "report_row_ids":[
    
   ],
   "version":3
  }
 },
 "nbformat":4,
 "nbformat_minor":4
}
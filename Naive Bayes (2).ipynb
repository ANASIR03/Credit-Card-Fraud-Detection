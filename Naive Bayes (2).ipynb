{
 "cells":[
  {
   "cell_type":"code",
   "source":[
    "import pandas as pd\n",
    "\n",
    "# Paths to the datasets\n",
    "training_data_34_66_path = '\/data\/notebook_files\/training_data_34_66.csv'\n",
    "training_data_10_90_path = '\/data\/notebook_files\/training_data_10_90.csv'\n",
    "X_test_path = '\/data\/notebook_files\/X_test.csv'\n",
    "y_test_path = '\/data\/notebook_files\/y_test.csv'\n",
    "\n",
    "# Loading the datasets\n",
    "training_data_34_66 = pd.read_csv(training_data_34_66_path)\n",
    "training_data_10_90 = pd.read_csv(training_data_10_90_path)\n",
    "X_test = pd.read_csv(X_test_path)\n",
    "y_test = pd.read_csv(y_test_path)"
   ],
   "execution_count":1,
   "outputs":[
    
   ],
   "metadata":{
    "datalore":{
     "node_id":"2JAGQUcCFUlLFa6gWejGsB",
     "type":"CODE",
     "hide_input_from_viewers":true,
     "hide_output_from_viewers":true
    }
   }
  },
  {
   "cell_type":"markdown",
   "source":[
    "# Gaussian Naive Bayes Computation on the 34:66 Class Distribution"
   ],
   "attachments":{
    
   },
   "metadata":{
    "datalore":{
     "node_id":"eRd1DMaS6brO04Udv7V0me",
     "type":"MD",
     "hide_input_from_viewers":true,
     "hide_output_from_viewers":true
    }
   }
  },
  {
   "cell_type":"code",
   "source":[
    "X_train_34_66 = training_data_34_66.drop('Class', axis=1)\n",
    "y_train_34_66 = training_data_34_66['Class']\n",
    "\n",
    "y_test = y_test.squeeze()  "
   ],
   "execution_count":3,
   "outputs":[
    
   ],
   "metadata":{
    "datalore":{
     "node_id":"FELRtDFTTTpb4e6Ha9QABn",
     "type":"CODE",
     "hide_input_from_viewers":true,
     "hide_output_from_viewers":true
    }
   }
  },
  {
   "cell_type":"code",
   "source":[
    "from sklearn.naive_bayes import GaussianNB\n",
    "from sklearn.metrics import (accuracy_score, recall_score, precision_score, confusion_matrix, \n",
    "                             roc_curve, roc_auc_score, matthews_corrcoef, fbeta_score)\n",
    "import matplotlib.pyplot as plt\n",
    "\n",
    "\n",
    "# Initialize the Gaussian Naive Bayes classifier\n",
    "gnb_model = GaussianNB()\n",
    "\n",
    "# Train the model on the 34:66 resampled training data\n",
    "gnb_model.fit(X_train_34_66, y_train_34_66)\n",
    "\n",
    "# Predict on the test set\n",
    "y_pred_34_66 = gnb_model.predict(X_test)\n",
    "y_pred_proba_34_66 = gnb_model.predict_proba(X_test)[:, 1]  \n",
    "\n",
    "# Calculate evaluation metrics\n",
    "accuracy_34_66 = accuracy_score(y_test, y_pred_34_66)\n",
    "recall_34_66 = recall_score(y_test, y_pred_34_66)\n",
    "precision_34_66 = precision_score(y_test, y_pred_34_66)\n",
    "f2_score_34_66 = fbeta_score(y_test, y_pred_34_66, beta=2) \n",
    "roc_auc_34_66 = roc_auc_score(y_test, y_pred_proba_34_66)\n",
    "conf_matrix_34_66 = confusion_matrix(y_test, y_pred_34_66)\n",
    "mcc_34_66 = matthews_corrcoef(y_test, y_pred_34_66)\n",
    "\n",
    "# Extracting TN, FP, FN, TP from confusion matrix\n",
    "tn_34_66, fp_34_66, fn_34_66, tp_34_66 = conf_matrix_34_66.ravel()\n",
    "\n",
    "# Specificity or True Negative Rate\n",
    "specificity_34_66 = tn_34_66 \/ (tn_34_66 + fp_34_66)\n",
    "\n",
    "# Balanced Classification Rate (BCR) \n",
    "bcr_34_66 = (recall_34_66 + specificity_34_66) \/ 2\n",
    "\n",
    "# Print the metrics\n",
    "print(f'Accuracy: {accuracy_34_66}')\n",
    "print(f'Recall\/Sensitivity: {recall_34_66}')\n",
    "print(f'Specificity: {specificity_34_66}')\n",
    "print(f'Precision: {precision_34_66}')\n",
    "print(f'F2 Score: {f2_score_34_66}')\n",
    "print(f'Matthews Correlation Coefficient (MCC): {mcc_34_66}')\n",
    "print(f'Balanced Classification Rate (BCR): {bcr_34_66}')\n",
    "print(f'ROC AUC: {roc_auc_34_66}')\n",
    "print(f'Confusion Matrix:\\n{conf_matrix_34_66}')\n",
    "print(f'TN: {tn_34_66}, FP: {fp_34_66}, FN: {fn_34_66}, TP: {tp_34_66}')\n",
    "\n",
    "# ROC Curve\n",
    "fpr_34_66, tpr_34_66, _ = roc_curve(y_test, y_pred_proba_34_66)\n",
    "plt.plot(fpr_34_66, tpr_34_66, label=f'AUC (34:66) = {roc_auc_34_66:.2f}')\n",
    "plt.plot([0, 1], [0, 1], 'k--')\n",
    "plt.xlabel('False Positive Rate')\n",
    "plt.ylabel('True Positive Rate')\n",
    "plt.title('ROC Curve (34:66 Dataset)')\n",
    "plt.legend(loc='lower right')\n",
    "plt.show()"
   ],
   "execution_count":4,
   "outputs":[
    {
     "name":"stdout",
     "text":[
      "Accuracy: 0.9769846564376251\n",
      "Recall\/Sensitivity: 0.8571428571428571\n",
      "Specificity: 0.9771911930219471\n",
      "Precision: 0.0608254887762491\n",
      "F2 Score: 0.23688663282571912\n",
      "Matthews Correlation Coefficient (MCC): 0.22480796354826\n",
      "Balanced Classification Rate (BCR): 0.9171670250824021\n",
      "ROC AUC: 0.9624773358274091\n",
      "Confusion Matrix:\n",
      "[[55567  1297]\n",
      " [   14    84]]\n",
      "TN: 55567, FP: 1297, FN: 14, TP: 84\n"
     ],
     "output_type":"stream"
    },
    {
     "data":{
      "image\/png":"[encoded data removed]"
     },
     "metadata":{
      "image\/png":{
       
      }
     },
     "output_type":"display_data"
    }
   ],
   "metadata":{
    "datalore":{
     "node_id":"BXjMMsTmtmfFIUeXo4p5Sj",
     "type":"CODE",
     "hide_input_from_viewers":true,
     "hide_output_from_viewers":true
    }
   }
  },
  {
   "cell_type":"markdown",
   "source":[
    "# Cross-Validating 34:66 Sample"
   ],
   "attachments":{
    
   },
   "metadata":{
    "datalore":{
     "node_id":"GpZCV05dQvsX1x8RmDqcsh",
     "type":"MD",
     "hide_input_from_viewers":true,
     "hide_output_from_viewers":true
    }
   }
  },
  {
   "cell_type":"code",
   "source":[
    "from sklearn.model_selection import cross_validate, StratifiedKFold\n",
    "from sklearn.naive_bayes import GaussianNB\n",
    "from sklearn.metrics import make_scorer, accuracy_score, recall_score, precision_score, fbeta_score, matthews_corrcoef\n",
    "\n",
    "# Initialize the Gaussian Naive Bayes classifier\n",
    "gnb_model = GaussianNB()\n",
    "\n",
    "# Define the cross-validation strategy\n",
    "cv_strategy = StratifiedKFold(n_splits=5)\n",
    "\n",
    "# Define scoring functions for cross-validation\n",
    "scoring = {'accuracy': make_scorer(accuracy_score),\n",
    "           'recall': make_scorer(recall_score),\n",
    "           'precision': make_scorer(precision_score),\n",
    "           'f2_score': make_scorer(fbeta_score, beta=2),\n",
    "           'mcc': make_scorer(matthews_corrcoef)}\n",
    "\n",
    "# Perform cross-validation\n",
    "cv_results = cross_validate(gnb_model, X_train_34_66, y_train_34_66, cv=cv_strategy, scoring=scoring)\n",
    "\n",
    "accuracy_scores = cv_results['test_accuracy']\n",
    "recall_scores = cv_results['test_recall']\n",
    "precision_scores = cv_results['test_precision']\n",
    "f2_scores = cv_results['test_f2_score']\n",
    "mcc_scores = cv_results['test_mcc']\n",
    "\n",
    "# Print the mean and standard deviation of the scores for each metric\n",
    "print(f'Cross-validated accuracy: {np.mean(accuracy_scores)} (+\/- {np.std(accuracy_scores)})')\n",
    "print(f'Cross-validated recall: {np.mean(recall_scores)} (+\/- {np.std(recall_scores)})')\n",
    "print(f'Cross-validated precision: {np.mean(precision_scores)} (+\/- {np.std(precision_scores)})')\n",
    "print(f'Cross-validated F2 score: {np.mean(f2_scores)} (+\/- {np.std(f2_scores)})')\n",
    "print(f'Cross-validated MCC: {np.mean(mcc_scores)} (+\/- {np.std(mcc_scores)})')"
   ],
   "execution_count":7,
   "outputs":[
    {
     "name":"stdout",
     "text":[
      "Cross-validated accuracy: 0.944806452639169 (+\/- 0.0005378058294316675)\n",
      "Cross-validated recall: 0.8482019213852352 (+\/- 0.0014585919256037934)\n",
      "Cross-validated precision: 0.9280848445050275 (+\/- 0.0017567192876136036)\n",
      "Cross-validated F2 score: 0.8630582014860284 (+\/- 0.0012249577498535385)\n",
      "Cross-validated MCC: 0.8514989403238097 (+\/- 0.0014570062259474123)\n"
     ],
     "output_type":"stream"
    }
   ],
   "metadata":{
    "datalore":{
     "node_id":"c6QTfg4btcDMDPnEGsv8u8",
     "type":"CODE",
     "hide_input_from_viewers":true,
     "hide_output_from_viewers":true
    }
   }
  },
  {
   "cell_type":"markdown",
   "source":[
    "# Gaussian Naive Bayes Computation on the 10:90 Class Distribution"
   ],
   "attachments":{
    
   },
   "metadata":{
    "datalore":{
     "node_id":"z0z5kvYvt05N4VSEOlFmnq",
     "type":"MD",
     "hide_input_from_viewers":true,
     "hide_output_from_viewers":true
    }
   }
  },
  {
   "cell_type":"code",
   "source":[
    "X_train_10_90 = training_data_10_90.drop('Class', axis=1)\n",
    "y_train_10_90 = training_data_10_90['Class']\n",
    "\n",
    "y_test = y_test.squeeze() "
   ],
   "execution_count":8,
   "outputs":[
    
   ],
   "metadata":{
    "datalore":{
     "node_id":"wLgCNVZDHcXA4tz5nFRcaz",
     "type":"CODE",
     "hide_input_from_viewers":true,
     "hide_output_from_viewers":true
    }
   }
  },
  {
   "cell_type":"code",
   "source":[
    "# Initialize the Gaussian Naive Bayes classifier\n",
    "gnb_model_10_90 = GaussianNB()\n",
    "\n",
    "# Train the model on the 10:90 resampled training data\n",
    "gnb_model_10_90.fit(X_train_10_90, y_train_10_90)\n",
    "\n",
    "# Predict on the test set\n",
    "y_pred_10_90 = gnb_model_10_90.predict(X_test)\n",
    "y_pred_proba_10_90 = gnb_model_10_90.predict_proba(X_test)[:, 1]  \n",
    "\n",
    "# Calculate evaluation metrics\n",
    "accuracy_10_90 = accuracy_score(y_test, y_pred_10_90)\n",
    "recall_10_90 = recall_score(y_test, y_pred_10_90)\n",
    "precision_10_90 = precision_score(y_test, y_pred_10_90)\n",
    "f2_score_10_90 = fbeta_score(y_test, y_pred_10_90, beta=2)\n",
    "roc_auc_10_90 = roc_auc_score(y_test, y_pred_proba_10_90)\n",
    "conf_matrix_10_90 = confusion_matrix(y_test, y_pred_10_90)\n",
    "mcc_10_90 = matthews_corrcoef(y_test, y_pred_10_90)\n",
    "\n",
    "# Extracting TN, FP, FN, TP from confusion matrix\n",
    "tn_10_90, fp_10_90, fn_10_90, tp_10_90 = conf_matrix_10_90.ravel()\n",
    "\n",
    "# Specificity or True Negative Rate\n",
    "specificity_10_90 = tn_10_90 \/ (tn_10_90 + fp_10_90)\n",
    "\n",
    "# Balanced Classification Rate (BCR)\n",
    "bcr_10_90 = (recall_10_90 + specificity_10_90) \/ 2\n",
    "\n",
    "# Print the metrics\n",
    "print(f'Accuracy (10:90): {accuracy_10_90}')\n",
    "print(f'Recall\/Sensitivity (10:90): {recall_10_90}')\n",
    "print(f'Specificity (10:90): {specificity_10_90}')\n",
    "print(f'Precision (10:90): {precision_10_90}')\n",
    "print(f'F2 Score (10:90): {f2_score_10_90}')\n",
    "print(f'Matthews Correlation Coefficient (MCC) (10:90): {mcc_10_90}')\n",
    "print(f'Balanced Classification Rate (BCR) (10:90): {bcr_10_90}')\n",
    "print(f'ROC AUC (10:90): {roc_auc_10_90}')\n",
    "print(f'Confusion Matrix (10:90):\\n{conf_matrix_10_90}')\n",
    "print(f'TN (10:90): {tn_10_90}, FP (10:90): {fp_10_90}, FN (10:90): {fn_10_90}, TP (10:90): {tp_10_90}')\n",
    "\n",
    "# ROC Curve\n",
    "fpr_10_90, tpr_10_90, _ = roc_curve(y_test, y_pred_proba_10_90)\n",
    "plt.plot(fpr_10_90, tpr_10_90, label=f'AUC (10:90) = {roc_auc_10_90:.2f}')\n",
    "plt.plot([0, 1], [0, 1], 'k--')\n",
    "plt.xlabel('False Positive Rate')\n",
    "plt.ylabel('True Positive Rate')\n",
    "plt.title('ROC Curve (10:90 Dataset)')\n",
    "plt.legend(loc='lower right')\n",
    "plt.show()"
   ],
   "execution_count":9,
   "outputs":[
    {
     "name":"stdout",
     "text":[
      "Accuracy (10:90): 0.9777044345353042\n",
      "Recall\/Sensitivity (10:90): 0.8571428571428571\n",
      "Specificity (10:90): 0.9779122115925718\n",
      "Precision (10:90): 0.0626865671641791\n",
      "F2 Score (10:90): 0.2424942263279445\n",
      "Matthews Correlation Coefficient (MCC) (10:90): 0.22833430130626278\n",
      "Balanced Classification Rate (BCR) (10:90): 0.9175275343677145\n",
      "ROC AUC (10:90): 0.9638405059547737\n",
      "Confusion Matrix (10:90):\n",
      "[[55608  1256]\n",
      " [   14    84]]\n",
      "TN (10:90): 55608, FP (10:90): 1256, FN (10:90): 14, TP (10:90): 84\n"
     ],
     "output_type":"stream"
    },
    {
     "data":{
      "image\/png":"[encoded data removed]"
     },
     "metadata":{
      "image\/png":{
       
      }
     },
     "output_type":"display_data"
    }
   ],
   "metadata":{
    "datalore":{
     "node_id":"jMLzsWck24kMpchCSeQ7k7",
     "type":"CODE",
     "hide_input_from_viewers":true,
     "hide_output_from_viewers":true
    }
   }
  },
  {
   "cell_type":"markdown",
   "source":[
    "# Cross-Validating 10:90 Sample"
   ],
   "attachments":{
    
   },
   "metadata":{
    "datalore":{
     "node_id":"9OnFtM4zTBucrMSgaQ0r0F",
     "type":"MD",
     "hide_input_from_viewers":true,
     "hide_output_from_viewers":true
    }
   }
  },
  {
   "cell_type":"code",
   "source":[
    "from sklearn.model_selection import cross_validate, StratifiedKFold\n",
    "from sklearn.naive_bayes import GaussianNB\n",
    "from sklearn.metrics import make_scorer, accuracy_score, recall_score, precision_score, fbeta_score, matthews_corrcoef\n",
    "import numpy as np\n",
    "\n",
    "# Initialize the Gaussian Naive Bayes classifier\n",
    "gnb_model = GaussianNB()\n",
    "\n",
    "# Define the cross-validation strategy\n",
    "cv_strategy = StratifiedKFold(n_splits=5)\n",
    "\n",
    "# Define scoring functions for cross-validation\n",
    "scoring = {'accuracy': make_scorer(accuracy_score),\n",
    "           'recall': make_scorer(recall_score),\n",
    "           'precision': make_scorer(precision_score),\n",
    "           'f2_score': make_scorer(fbeta_score, beta=2),\n",
    "           'mcc': make_scorer(matthews_corrcoef)}\n",
    "\n",
    "# Perform cross-validation\n",
    "cv_results = cross_validate(gnb_model, X_train_10_90, y_train_10_90, cv=cv_strategy, scoring=scoring)\n",
    "\n",
    "accuracy_scores = cv_results['test_accuracy']\n",
    "recall_scores = cv_results['test_recall']\n",
    "precision_scores = cv_results['test_precision']\n",
    "f2_scores = cv_results['test_f2_score']\n",
    "mcc_scores = cv_results['test_mcc']\n",
    "\n",
    "# Print the mean and standard deviation of the scores for each metric\n",
    "print(f'Cross-validated accuracy: {np.mean(accuracy_scores)} (+\/- {np.std(accuracy_scores)})')\n",
    "print(f'Cross-validated recall: {np.mean(recall_scores)} (+\/- {np.std(recall_scores)})')\n",
    "print(f'Cross-validated precision: {np.mean(precision_scores)} (+\/- {np.std(precision_scores)})')\n",
    "print(f'Cross-validated F2 score: {np.mean(f2_scores)} (+\/- {np.std(f2_scores)})')\n",
    "print(f'Cross-validated MCC: {np.mean(mcc_scores)} (+\/- {np.std(mcc_scores)})')"
   ],
   "execution_count":10,
   "outputs":[
    {
     "name":"stdout",
     "text":[
      "Cross-validated accuracy: 0.9667179599912069 (+\/- 0.000713261559933567)\n",
      "Cross-validated recall: 0.8491096944383381 (+\/- 0.005044765509744934)\n",
      "Cross-validated precision: 0.7977960337002348 (+\/- 0.0036078910586875203)\n",
      "Cross-validated F2 score: 0.8383228534619827 (+\/- 0.004507051605440394)\n",
      "Cross-validated MCC: 0.8047832267276462 (+\/- 0.00433724440066743)\n"
     ],
     "output_type":"stream"
    }
   ],
   "metadata":{
    "datalore":{
     "node_id":"gzaRGT9JZdourQHochaGDi",
     "type":"CODE",
     "hide_input_from_viewers":true,
     "hide_output_from_viewers":true
    }
   }
  }
 ],
 "metadata":{
  "kernelspec":{
   "display_name":"Python",
   "language":"python",
   "name":"python"
  },
  "datalore":{
   "computation_mode":"JUPYTER",
   "package_manager":"pip",
   "base_environment":"default",
   "packages":[
    
   ],
   "report_row_ids":[
    
   ],
   "version":3
  }
 },
 "nbformat":4,
 "nbformat_minor":4
}